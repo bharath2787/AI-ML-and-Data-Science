{
  "cells": [
    {
      "cell_type": "markdown",
      "metadata": {
        "id": "view-in-github",
        "colab_type": "text"
      },
      "source": [
        "<a href=\"https://colab.research.google.com/github/bharath2787/ML-AI/blob/main/ANN/0_ANN_MNIST_Basic.ipynb\" target=\"_parent\"><img src=\"https://colab.research.google.com/assets/colab-badge.svg\" alt=\"Open In Colab\"/></a>"
      ]
    },
    {
      "cell_type": "markdown",
      "metadata": {
        "id": "PTRatFvoXMrp"
      },
      "source": [
        "###ANN for MNIST DATASET"
      ]
    },
    {
      "cell_type": "markdown",
      "source": [
        "### Importing necessary libraries"
      ],
      "metadata": {
        "id": "oHZy9zsfE7bn"
      }
    },
    {
      "cell_type": "code",
      "execution_count": null,
      "metadata": {
        "id": "yXnOQ0oaAqTq"
      },
      "outputs": [],
      "source": [
        "\n",
        "import numpy as np\n",
        "import matplotlib.pyplot as plt\n",
        "import seaborn as sns\n",
        "from tensorflow.keras.datasets import mnist\n",
        "from tensorflow.keras.models import Sequential\n",
        "from tensorflow.keras.layers import Dense, Flatten\n",
        "from tensorflow.keras.utils import to_categorical\n",
        "from tensorflow.keras.callbacks import EarlyStopping\n",
        "from sklearn.metrics import classification_report, confusion_matrix\n"
      ]
    },
    {
      "cell_type": "markdown",
      "source": [
        "### Import MNIST Dataset"
      ],
      "metadata": {
        "id": "fPHcuIG0E-eG"
      }
    },
    {
      "cell_type": "code",
      "execution_count": null,
      "metadata": {
        "id": "gV6Wy0_WB4xD",
        "colab": {
          "base_uri": "https://localhost:8080/"
        },
        "outputId": "ca160c25-28b9-4189-f3bd-ed1c820ece9e"
      },
      "outputs": [
        {
          "output_type": "stream",
          "name": "stdout",
          "text": [
            "Downloading data from https://storage.googleapis.com/tensorflow/tf-keras-datasets/mnist.npz\n",
            "\u001b[1m11490434/11490434\u001b[0m \u001b[32m━━━━━━━━━━━━━━━━━━━━\u001b[0m\u001b[37m\u001b[0m \u001b[1m0s\u001b[0m 0us/step\n"
          ]
        }
      ],
      "source": [
        "\n",
        "\n",
        "(x_train, y_train), (x_test, y_test) = mnist.load_data()\n"
      ]
    },
    {
      "cell_type": "markdown",
      "source": [
        "### Perform EDA\n",
        "*  Display basic information about the dataset"
      ],
      "metadata": {
        "id": "ilg7PQI3FBcX"
      }
    },
    {
      "cell_type": "code",
      "execution_count": null,
      "metadata": {
        "colab": {
          "base_uri": "https://localhost:8080/"
        },
        "id": "ToOQFVuvB3tq",
        "outputId": "804d76d0-37f4-44b4-c4ac-77f84dd08327"
      },
      "outputs": [
        {
          "output_type": "stream",
          "name": "stdout",
          "text": [
            "Training data shape: (60000, 28, 28)\n",
            "Testing data shape: (10000, 28, 28)\n",
            "Number of training samples: 60000\n",
            "Number of testing samples: 10000\n"
          ]
        }
      ],
      "source": [
        "\n",
        "\n",
        "print(f'Training data shape: {x_train.shape}')\n",
        "print(f'Testing data shape: {x_test.shape}')\n",
        "print(f'Number of training samples: {len(x_train)}')\n",
        "print(f'Number of testing samples: {len(x_test)}')\n"
      ]
    },
    {
      "cell_type": "code",
      "execution_count": null,
      "metadata": {
        "colab": {
          "base_uri": "https://localhost:8080/",
          "height": 68
        },
        "id": "5OUTKVJ7S76e",
        "outputId": "c9211263-5fc7-4ee3-a506-3c9c31cd67c6"
      },
      "outputs": [
        {
          "output_type": "execute_result",
          "data": {
            "text/plain": [
              "array([[  0,   0,   0,   0,   0,   0,   0,   0,   0,   0,   0,   0,   0,\n",
              "          0,   0,   0,   0,   0,   0,   0,   0,   0,   0,   0,   0,   0,\n",
              "          0,   0],\n",
              "       [  0,   0,   0,   0,   0,   0,   0,   0,   0,   0,   0,   0,   0,\n",
              "          0,   0,   0,   0,   0,   0,   0,   0,   0,   0,   0,   0,   0,\n",
              "          0,   0],\n",
              "       [  0,   0,   0,   0,   0,   0,   0,   0,   0,   0,   0,   0,   0,\n",
              "          0,   0,   0,   0,   0,   0,   0,   0,   0,   0,   0,   0,   0,\n",
              "          0,   0],\n",
              "       [  0,   0,   0,   0,   0,   0,   0,   0,   0,   0,   0,   0,   0,\n",
              "          0,   0,   0,   0,   0,   0,   0,   0,   0,   0,   0,   0,   0,\n",
              "          0,   0],\n",
              "       [  0,   0,   0,   0,   0,   0,   0,   0,   0,   0,   0,   0,   0,\n",
              "          0,   0,   0,   0,   0,   0,   0,   0,   0,   0,   0,   0,   0,\n",
              "          0,   0],\n",
              "       [  0,   0,   0,   0,   0,   0,   0,   0,   0,   0,   0,   0,   3,\n",
              "         18,  18,  18, 126, 136, 175,  26, 166, 255, 247, 127,   0,   0,\n",
              "          0,   0],\n",
              "       [  0,   0,   0,   0,   0,   0,   0,   0,  30,  36,  94, 154, 170,\n",
              "        253, 253, 253, 253, 253, 225, 172, 253, 242, 195,  64,   0,   0,\n",
              "          0,   0],\n",
              "       [  0,   0,   0,   0,   0,   0,   0,  49, 238, 253, 253, 253, 253,\n",
              "        253, 253, 253, 253, 251,  93,  82,  82,  56,  39,   0,   0,   0,\n",
              "          0,   0],\n",
              "       [  0,   0,   0,   0,   0,   0,   0,  18, 219, 253, 253, 253, 253,\n",
              "        253, 198, 182, 247, 241,   0,   0,   0,   0,   0,   0,   0,   0,\n",
              "          0,   0],\n",
              "       [  0,   0,   0,   0,   0,   0,   0,   0,  80, 156, 107, 253, 253,\n",
              "        205,  11,   0,  43, 154,   0,   0,   0,   0,   0,   0,   0,   0,\n",
              "          0,   0],\n",
              "       [  0,   0,   0,   0,   0,   0,   0,   0,   0,  14,   1, 154, 253,\n",
              "         90,   0,   0,   0,   0,   0,   0,   0,   0,   0,   0,   0,   0,\n",
              "          0,   0],\n",
              "       [  0,   0,   0,   0,   0,   0,   0,   0,   0,   0,   0, 139, 253,\n",
              "        190,   2,   0,   0,   0,   0,   0,   0,   0,   0,   0,   0,   0,\n",
              "          0,   0],\n",
              "       [  0,   0,   0,   0,   0,   0,   0,   0,   0,   0,   0,  11, 190,\n",
              "        253,  70,   0,   0,   0,   0,   0,   0,   0,   0,   0,   0,   0,\n",
              "          0,   0],\n",
              "       [  0,   0,   0,   0,   0,   0,   0,   0,   0,   0,   0,   0,  35,\n",
              "        241, 225, 160, 108,   1,   0,   0,   0,   0,   0,   0,   0,   0,\n",
              "          0,   0],\n",
              "       [  0,   0,   0,   0,   0,   0,   0,   0,   0,   0,   0,   0,   0,\n",
              "         81, 240, 253, 253, 119,  25,   0,   0,   0,   0,   0,   0,   0,\n",
              "          0,   0],\n",
              "       [  0,   0,   0,   0,   0,   0,   0,   0,   0,   0,   0,   0,   0,\n",
              "          0,  45, 186, 253, 253, 150,  27,   0,   0,   0,   0,   0,   0,\n",
              "          0,   0],\n",
              "       [  0,   0,   0,   0,   0,   0,   0,   0,   0,   0,   0,   0,   0,\n",
              "          0,   0,  16,  93, 252, 253, 187,   0,   0,   0,   0,   0,   0,\n",
              "          0,   0],\n",
              "       [  0,   0,   0,   0,   0,   0,   0,   0,   0,   0,   0,   0,   0,\n",
              "          0,   0,   0,   0, 249, 253, 249,  64,   0,   0,   0,   0,   0,\n",
              "          0,   0],\n",
              "       [  0,   0,   0,   0,   0,   0,   0,   0,   0,   0,   0,   0,   0,\n",
              "          0,  46, 130, 183, 253, 253, 207,   2,   0,   0,   0,   0,   0,\n",
              "          0,   0],\n",
              "       [  0,   0,   0,   0,   0,   0,   0,   0,   0,   0,   0,   0,  39,\n",
              "        148, 229, 253, 253, 253, 250, 182,   0,   0,   0,   0,   0,   0,\n",
              "          0,   0],\n",
              "       [  0,   0,   0,   0,   0,   0,   0,   0,   0,   0,  24, 114, 221,\n",
              "        253, 253, 253, 253, 201,  78,   0,   0,   0,   0,   0,   0,   0,\n",
              "          0,   0],\n",
              "       [  0,   0,   0,   0,   0,   0,   0,   0,  23,  66, 213, 253, 253,\n",
              "        253, 253, 198,  81,   2,   0,   0,   0,   0,   0,   0,   0,   0,\n",
              "          0,   0],\n",
              "       [  0,   0,   0,   0,   0,   0,  18, 171, 219, 253, 253, 253, 253,\n",
              "        195,  80,   9,   0,   0,   0,   0,   0,   0,   0,   0,   0,   0,\n",
              "          0,   0],\n",
              "       [  0,   0,   0,   0,  55, 172, 226, 253, 253, 253, 253, 244, 133,\n",
              "         11,   0,   0,   0,   0,   0,   0,   0,   0,   0,   0,   0,   0,\n",
              "          0,   0],\n",
              "       [  0,   0,   0,   0, 136, 253, 253, 253, 212, 135, 132,  16,   0,\n",
              "          0,   0,   0,   0,   0,   0,   0,   0,   0,   0,   0,   0,   0,\n",
              "          0,   0],\n",
              "       [  0,   0,   0,   0,   0,   0,   0,   0,   0,   0,   0,   0,   0,\n",
              "          0,   0,   0,   0,   0,   0,   0,   0,   0,   0,   0,   0,   0,\n",
              "          0,   0],\n",
              "       [  0,   0,   0,   0,   0,   0,   0,   0,   0,   0,   0,   0,   0,\n",
              "          0,   0,   0,   0,   0,   0,   0,   0,   0,   0,   0,   0,   0,\n",
              "          0,   0],\n",
              "       [  0,   0,   0,   0,   0,   0,   0,   0,   0,   0,   0,   0,   0,\n",
              "          0,   0,   0,   0,   0,   0,   0,   0,   0,   0,   0,   0,   0,\n",
              "          0,   0]], dtype=uint8)"
            ],
            "text/html": [
              "<style>\n",
              "      .ndarray_repr .ndarray_raw_data {\n",
              "        display: none;\n",
              "      }\n",
              "      .ndarray_repr.show_array .ndarray_raw_data {\n",
              "        display: block;\n",
              "      }\n",
              "      .ndarray_repr.show_array .ndarray_image_preview {\n",
              "        display: none;\n",
              "      }\n",
              "      </style>\n",
              "      <div id=\"id-eff2d4e6-4bf7-482a-a0ee-0d5155fcd8d4\" class=\"ndarray_repr\"><pre>ndarray (28, 28) <button style=\"padding: 0 2px;\">show data</button></pre><img src=\"data:image/png;base64,iVBORw0KGgoAAAANSUhEUgAAABwAAAAcCAAAAABXZoBIAAABAElEQVR4nGNgGMyAWUhIqK5jvdSy/9/rGRgYGFhgEnJsVjYCwQwMDAxPJgV+vniQgYGBgREqZ7iXH8r6l/SV4dn7m8gmCt3++/fv37/Htn3/iMW+gDnZf/+e5WbQnoXNNXyMs/5GoQoxwVmf/n9kSGFiwAW49/11wynJoPzx4YIcRlyygR/+/i2XxCWru+vv32nSuGQFYv/83Y3b4p9/fzpAmSyoMnohpiwM1w5h06Q+5enfv39/bcMiJVF09+/fv39P+mFKiTtd/fv3799jgZiBJLT69t+/f/8eDuDEkDJf8+jv379/v7Ryo4qzMDAwMAQGMjBc3/y35wM2V1IfAABFF16Aa0wAOwAAAABJRU5ErkJggg==\" class=\"ndarray_image_preview\" /><pre class=\"ndarray_raw_data\">array([[  0,   0,   0,   0,   0,   0,   0,   0,   0,   0,   0,   0,   0,\n",
              "          0,   0,   0,   0,   0,   0,   0,   0,   0,   0,   0,   0,   0,\n",
              "          0,   0],\n",
              "       [  0,   0,   0,   0,   0,   0,   0,   0,   0,   0,   0,   0,   0,\n",
              "          0,   0,   0,   0,   0,   0,   0,   0,   0,   0,   0,   0,   0,\n",
              "          0,   0],\n",
              "       [  0,   0,   0,   0,   0,   0,   0,   0,   0,   0,   0,   0,   0,\n",
              "          0,   0,   0,   0,   0,   0,   0,   0,   0,   0,   0,   0,   0,\n",
              "          0,   0],\n",
              "       [  0,   0,   0,   0,   0,   0,   0,   0,   0,   0,   0,   0,   0,\n",
              "          0,   0,   0,   0,   0,   0,   0,   0,   0,   0,   0,   0,   0,\n",
              "          0,   0],\n",
              "       [  0,   0,   0,   0,   0,   0,   0,   0,   0,   0,   0,   0,   0,\n",
              "          0,   0,   0,   0,   0,   0,   0,   0,   0,   0,   0,   0,   0,\n",
              "          0,   0],\n",
              "       [  0,   0,   0,   0,   0,   0,   0,   0,   0,   0,   0,   0,   3,\n",
              "         18,  18,  18, 126, 136, 175,  26, 166, 255, 247, 127,   0,   0,\n",
              "          0,   0],\n",
              "       [  0,   0,   0,   0,   0,   0,   0,   0,  30,  36,  94, 154, 170,\n",
              "        253, 253, 253, 253, 253, 225, 172, 253, 242, 195,  64,   0,   0,\n",
              "          0,   0],\n",
              "       [  0,   0,   0,   0,   0,   0,   0,  49, 238, 253, 253, 253, 253,\n",
              "        253, 253, 253, 253, 251,  93,  82,  82,  56,  39,   0,   0,   0,\n",
              "          0,   0],\n",
              "       [  0,   0,   0,   0,   0,   0,   0,  18, 219, 253, 253, 253, 253,\n",
              "        253, 198, 182, 247, 241,   0,   0,   0,   0,   0,   0,   0,   0,\n",
              "          0,   0],\n",
              "       [  0,   0,   0,   0,   0,   0,   0,   0,  80, 156, 107, 253, 253,\n",
              "        205,  11,   0,  43, 154,   0,   0,   0,   0,   0,   0,   0,   0,\n",
              "          0,   0],\n",
              "       [  0,   0,   0,   0,   0,   0,   0,   0,   0,  14,   1, 154, 253,\n",
              "         90,   0,   0,   0,   0,   0,   0,   0,   0,   0,   0,   0,   0,\n",
              "          0,   0],\n",
              "       [  0,   0,   0,   0,   0,   0,   0,   0,   0,   0,   0, 139, 253,\n",
              "        190,   2,   0,   0,   0,   0,   0,   0,   0,   0,   0,   0,   0,\n",
              "          0,   0],\n",
              "       [  0,   0,   0,   0,   0,   0,   0,   0,   0,   0,   0,  11, 190,\n",
              "        253,  70,   0,   0,   0,   0,   0,   0,   0,   0,   0,   0,   0,\n",
              "          0,   0],\n",
              "       [  0,   0,   0,   0,   0,   0,   0,   0,   0,   0,   0,   0,  35,\n",
              "        241, 225, 160, 108,   1,   0,   0,   0,   0,   0,   0,   0,   0,\n",
              "          0,   0],\n",
              "       [  0,   0,   0,   0,   0,   0,   0,   0,   0,   0,   0,   0,   0,\n",
              "         81, 240, 253, 253, 119,  25,   0,   0,   0,   0,   0,   0,   0,\n",
              "          0,   0],\n",
              "       [  0,   0,   0,   0,   0,   0,   0,   0,   0,   0,   0,   0,   0,\n",
              "          0,  45, 186, 253, 253, 150,  27,   0,   0,   0,   0,   0,   0,\n",
              "          0,   0],\n",
              "       [  0,   0,   0,   0,   0,   0,   0,   0,   0,   0,   0,   0,   0,\n",
              "          0,   0,  16,  93, 252, 253, 187,   0,   0,   0,   0,   0,   0,\n",
              "          0,   0],\n",
              "       [  0,   0,   0,   0,   0,   0,   0,   0,   0,   0,   0,   0,   0,\n",
              "          0,   0,   0,   0, 249, 253, 249,  64,   0,   0,   0,   0,   0,\n",
              "          0,   0],\n",
              "       [  0,   0,   0,   0,   0,   0,   0,   0,   0,   0,   0,   0,   0,\n",
              "          0,  46, 130, 183, 253, 253, 207,   2,   0,   0,   0,   0,   0,\n",
              "          0,   0],\n",
              "       [  0,   0,   0,   0,   0,   0,   0,   0,   0,   0,   0,   0,  39,\n",
              "        148, 229, 253, 253, 253, 250, 182,   0,   0,   0,   0,   0,   0,\n",
              "          0,   0],\n",
              "       [  0,   0,   0,   0,   0,   0,   0,   0,   0,   0,  24, 114, 221,\n",
              "        253, 253, 253, 253, 201,  78,   0,   0,   0,   0,   0,   0,   0,\n",
              "          0,   0],\n",
              "       [  0,   0,   0,   0,   0,   0,   0,   0,  23,  66, 213, 253, 253,\n",
              "        253, 253, 198,  81,   2,   0,   0,   0,   0,   0,   0,   0,   0,\n",
              "          0,   0],\n",
              "       [  0,   0,   0,   0,   0,   0,  18, 171, 219, 253, 253, 253, 253,\n",
              "        195,  80,   9,   0,   0,   0,   0,   0,   0,   0,   0,   0,   0,\n",
              "          0,   0],\n",
              "       [  0,   0,   0,   0,  55, 172, 226, 253, 253, 253, 253, 244, 133,\n",
              "         11,   0,   0,   0,   0,   0,   0,   0,   0,   0,   0,   0,   0,\n",
              "          0,   0],\n",
              "       [  0,   0,   0,   0, 136, 253, 253, 253, 212, 135, 132,  16,   0,\n",
              "          0,   0,   0,   0,   0,   0,   0,   0,   0,   0,   0,   0,   0,\n",
              "          0,   0],\n",
              "       [  0,   0,   0,   0,   0,   0,   0,   0,   0,   0,   0,   0,   0,\n",
              "          0,   0,   0,   0,   0,   0,   0,   0,   0,   0,   0,   0,   0,\n",
              "          0,   0],\n",
              "       [  0,   0,   0,   0,   0,   0,   0,   0,   0,   0,   0,   0,   0,\n",
              "          0,   0,   0,   0,   0,   0,   0,   0,   0,   0,   0,   0,   0,\n",
              "          0,   0],\n",
              "       [  0,   0,   0,   0,   0,   0,   0,   0,   0,   0,   0,   0,   0,\n",
              "          0,   0,   0,   0,   0,   0,   0,   0,   0,   0,   0,   0,   0,\n",
              "          0,   0]], dtype=uint8)</pre></div><script>\n",
              "      (() => {\n",
              "      const titles = ['show data', 'hide data'];\n",
              "      let index = 0\n",
              "      document.querySelector('#id-eff2d4e6-4bf7-482a-a0ee-0d5155fcd8d4 button').onclick = (e) => {\n",
              "        document.querySelector('#id-eff2d4e6-4bf7-482a-a0ee-0d5155fcd8d4').classList.toggle('show_array');\n",
              "        index = (++index) % 2;\n",
              "        document.querySelector('#id-eff2d4e6-4bf7-482a-a0ee-0d5155fcd8d4 button').textContent = titles[index];\n",
              "        e.preventDefault();\n",
              "        e.stopPropagation();\n",
              "      }\n",
              "      })();\n",
              "    </script>"
            ]
          },
          "metadata": {},
          "execution_count": 4
        }
      ],
      "source": [
        "x_train[0]"
      ]
    },
    {
      "cell_type": "markdown",
      "source": [
        "## how to print the image"
      ],
      "metadata": {
        "id": "lhLOqHLDMKil"
      }
    },
    {
      "cell_type": "code",
      "source": [
        "    plt.imshow(x_train[0], cmap='gray')\n"
      ],
      "metadata": {
        "colab": {
          "base_uri": "https://localhost:8080/",
          "height": 447
        },
        "id": "BM9qdIvQMGTd",
        "outputId": "4d9814f2-284d-4bf3-f66b-edf9c3a54e5c"
      },
      "execution_count": null,
      "outputs": [
        {
          "output_type": "execute_result",
          "data": {
            "text/plain": [
              "<matplotlib.image.AxesImage at 0x7ddf564b1d90>"
            ]
          },
          "metadata": {},
          "execution_count": 5
        },
        {
          "output_type": "display_data",
          "data": {
            "text/plain": [
              "<Figure size 640x480 with 1 Axes>"
            ],
            "image/png": "[encoded data removed]"
          },
          "metadata": {}
        }
      ]
    },
    {
      "cell_type": "code",
      "execution_count": null,
      "metadata": {
        "colab": {
          "base_uri": "https://localhost:8080/",
          "height": 1000
        },
        "id": "vwvy6r_VB2Yr",
        "outputId": "d0964c09-a69a-4425-d4f4-aa3650c55f0b"
      },
      "outputs": [
        {
          "output_type": "display_data",
          "data": {
            "text/plain": [
              "<Figure size 1200x800 with 10 Axes>"
            ],
            "image/png": "[encoded data removed]"
          },
          "metadata": {}
        },
        {
          "output_type": "display_data",
          "data": {
            "text/plain": [
              "<Figure size 1200x800 with 10 Axes>"
            ],
            "image/png": "[encoded data removed]"
          },
          "metadata": {}
        }
      ],
      "source": [
        "\n",
        "#  Explain and show a sample from each of the sets (train, test, ytrain, ytest)\n",
        "plt.figure(figsize=(12, 8))\n",
        "for i in range(10):\n",
        "    plt.subplot(2, 5, i + 1)\n",
        "    plt.imshow(x_train[i], cmap='gray')\n",
        "    plt.title(f'Train Label: {y_train[i]}')\n",
        "    plt.axis('off')\n",
        "plt.show()\n",
        "\n",
        "plt.figure(figsize=(12, 8))\n",
        "for i in range(10):\n",
        "    plt.subplot(2, 5, i + 1)\n",
        "    plt.imshow(x_test[i], cmap='gray')\n",
        "    plt.title(f'Test Label: {y_test[i]}')\n",
        "    plt.axis('off')\n",
        "plt.show()\n"
      ]
    },
    {
      "cell_type": "code",
      "execution_count": null,
      "metadata": {
        "id": "Rx0WHLgaB06y"
      },
      "outputs": [],
      "source": [
        "\n",
        "# # 4. Show and explain class distribution in dataset in details\n",
        "# plt.figure(figsize=(12, 12))\n",
        "# sns.countplot(y_train)\n",
        "# plt.title('Distribution of training labels')\n",
        "# plt.xlabel('Digit')\n",
        "# plt.ylabel('Count')\n",
        "# plt.show()\n"
      ]
    },
    {
      "cell_type": "code",
      "execution_count": null,
      "metadata": {
        "id": "_X_vPW87BztK"
      },
      "outputs": [],
      "source": [
        "\n",
        "# plt.figure(figsize=(12, 6))\n",
        "# sns.countplot(y_test)\n",
        "# plt.title('Distribution of testing labels')\n",
        "# plt.xlabel('Digit')\n",
        "# plt.ylabel('Count')\n",
        "# plt.show()\n"
      ]
    },
    {
      "cell_type": "markdown",
      "source": [
        "### Perform data preprocessing"
      ],
      "metadata": {
        "id": "6Iy5YYpVFNUw"
      }
    },
    {
      "cell_type": "code",
      "execution_count": null,
      "metadata": {
        "id": "4TeCodziByly"
      },
      "outputs": [],
      "source": [
        "\n",
        "\n",
        "# Normalize the pixel values to the range [0, 1]\n",
        "x_train = x_train.astype('float32') / 255\n",
        "x_test = x_test.astype('float32') / 255\n"
      ]
    },
    {
      "cell_type": "markdown",
      "source": [
        "### Transform labels and explain why it's necessary, also show and explain how labels looked before and after\n"
      ],
      "metadata": {
        "id": "NhKR-mhEFQBn"
      }
    },
    {
      "cell_type": "code",
      "execution_count": null,
      "metadata": {
        "colab": {
          "base_uri": "https://localhost:8080/"
        },
        "id": "lMkw9CE9BxbD",
        "outputId": "ce37c2d2-17d0-4fd1-b961-6bc11f3cc40d"
      },
      "outputs": [
        {
          "output_type": "stream",
          "name": "stdout",
          "text": [
            "First 10 labels before transformation: [5 0 4 1 9 2 1 3 1 4]\n"
          ]
        }
      ],
      "source": [
        "\n",
        "# Print first 10 labels before transformation\n",
        "print(\"First 10 labels before transformation:\", y_train[:10])\n"
      ]
    },
    {
      "cell_type": "markdown",
      "source": [
        "### Convert class labels to one-hot encoded vectors\n"
      ],
      "metadata": {
        "id": "_HnkPFI0FSTf"
      }
    },
    {
      "cell_type": "code",
      "execution_count": null,
      "metadata": {
        "id": "w206_YPOBwcb"
      },
      "outputs": [],
      "source": [
        "\n",
        "# This transformation is necessary because the output layer of the neural network has 10 neurons (one for each class).\n",
        "# The one-hot encoding transforms the labels into a binary matrix representation. This helps the model understand\n",
        "# the correct class for each input and calculate the loss correctly during training.\n",
        "y_train = to_categorical(y_train)\n",
        "y_test = to_categorical(y_test)\n"
      ]
    },
    {
      "cell_type": "markdown",
      "source": [
        "### Print first 10 labels after transformation\n"
      ],
      "metadata": {
        "id": "fhL2NrJqFUvG"
      }
    },
    {
      "cell_type": "code",
      "execution_count": null,
      "metadata": {
        "colab": {
          "base_uri": "https://localhost:8080/"
        },
        "id": "k9ohZRrtBvcz",
        "outputId": "5f830d47-e9e9-41d8-b144-162d258f65b7"
      },
      "outputs": [
        {
          "output_type": "stream",
          "name": "stdout",
          "text": [
            "First 10 labels after transformation:\n",
            "[[0. 0. 0. 0. 0. 1. 0. 0. 0. 0.]\n",
            " [1. 0. 0. 0. 0. 0. 0. 0. 0. 0.]\n",
            " [0. 0. 0. 0. 1. 0. 0. 0. 0. 0.]\n",
            " [0. 1. 0. 0. 0. 0. 0. 0. 0. 0.]\n",
            " [0. 0. 0. 0. 0. 0. 0. 0. 0. 1.]\n",
            " [0. 0. 1. 0. 0. 0. 0. 0. 0. 0.]\n",
            " [0. 1. 0. 0. 0. 0. 0. 0. 0. 0.]\n",
            " [0. 0. 0. 1. 0. 0. 0. 0. 0. 0.]\n",
            " [0. 1. 0. 0. 0. 0. 0. 0. 0. 0.]\n",
            " [0. 0. 0. 0. 1. 0. 0. 0. 0. 0.]]\n"
          ]
        }
      ],
      "source": [
        "\n",
        "print(\"First 10 labels after transformation:\")\n",
        "print(y_train[:10])\n"
      ]
    },
    {
      "cell_type": "code",
      "execution_count": null,
      "metadata": {
        "colab": {
          "base_uri": "https://localhost:8080/"
        },
        "id": "UWYADG2VxVP3",
        "outputId": "81f67823-f216-4ee4-9105-fda5919ea538"
      },
      "outputs": [
        {
          "output_type": "execute_result",
          "data": {
            "text/plain": [
              "(28, 28)"
            ]
          },
          "metadata": {},
          "execution_count": 13
        }
      ],
      "source": [
        "x_train[0].shape"
      ]
    },
    {
      "cell_type": "code",
      "execution_count": null,
      "metadata": {
        "colab": {
          "base_uri": "https://localhost:8080/"
        },
        "id": "wOUbdlHAx2o1",
        "outputId": "c12faeb4-3d56-408d-a264-e7f8623b8da7"
      },
      "outputs": [
        {
          "output_type": "execute_result",
          "data": {
            "text/plain": [
              "784"
            ]
          },
          "metadata": {},
          "execution_count": 14
        }
      ],
      "source": [
        "28*28"
      ]
    },
    {
      "cell_type": "markdown",
      "source": [
        "\n",
        "### Build ANN model"
      ],
      "metadata": {
        "id": "U-_jA1twFcW-"
      }
    },
    {
      "cell_type": "code",
      "execution_count": null,
      "metadata": {
        "colab": {
          "base_uri": "https://localhost:8080/"
        },
        "id": "Ogm2Msk6BuXj",
        "outputId": "7da63fc8-5b40-4098-ae3d-d474b7e41fe5"
      },
      "outputs": [
        {
          "output_type": "stream",
          "name": "stderr",
          "text": [
            "/usr/local/lib/python3.11/dist-packages/keras/src/layers/reshaping/flatten.py:37: UserWarning: Do not pass an `input_shape`/`input_dim` argument to a layer. When using Sequential models, prefer using an `Input(shape)` object as the first layer in the model instead.\n",
            "  super().__init__(**kwargs)\n"
          ]
        }
      ],
      "source": [
        "\n",
        "model = Sequential([\n",
        "    Flatten(input_shape=(28, 28)),  # Flatten the 28x28 images into a 1D vector\n",
        "    Dense(128, activation='relu'),  # Hidden layer with 128 neurons and ReLU activation\n",
        "    Dense(64, activation='relu'),   # Hidden layer with 64 neurons and ReLU activation\n",
        "    Dense(10, activation='softmax') # Output layer with 10 neurons (one for each class) and softmax activation\n",
        "])\n"
      ]
    },
    {
      "cell_type": "markdown",
      "source": [
        "### Compile the model with proper comments\n"
      ],
      "metadata": {
        "id": "znN3DfFMFh7W"
      }
    },
    {
      "cell_type": "code",
      "execution_count": null,
      "metadata": {
        "id": "0k1G9J52BtQj"
      },
      "outputs": [],
      "source": [
        "\n",
        "# optimizer='adam': Adam optimizer is chosen for its efficiency and adaptive learning rate.\n",
        "# loss='categorical_crossentropy': Appropriate loss function for multi-class classification problems.\n",
        "# metrics=['accuracy']: Accuracy is used as the metric to evaluate model performance.\n",
        "model.compile(optimizer='adam', loss='categorical_crossentropy', metrics=['accuracy'])\n"
      ]
    },
    {
      "cell_type": "markdown",
      "source": [
        "### Training the model\n"
      ],
      "metadata": {
        "id": "m4fhA8nuFmWO"
      }
    },
    {
      "cell_type": "markdown",
      "source": [
        "\n",
        "\n",
        "The `verbose` parameter controls **how much information** is displayed during the training process.\n",
        "\n",
        "###  `verbose` values:\n",
        "\n",
        "- `verbose=0`: **No output** (silent mode)\n",
        "- `verbose=1`: **Progress bar** (default)\n",
        "- `verbose=2`: **One line per epoch** (more concise)\n",
        "\n",
        "---\n",
        "\n",
        "###  in this case (`verbose=2`):\n",
        "This means **each epoch will print a single line of output** like:\n",
        "\n",
        "```\n",
        "Epoch 1/50\n",
        "loss: 0.6934 - accuracy: 0.51 - val_loss: 0.6929 - val_accuracy: 0.52\n",
        "...\n",
        "```\n"
      ],
      "metadata": {
        "id": "91izhaiWNWOV"
      }
    },
    {
      "cell_type": "code",
      "execution_count": null,
      "metadata": {
        "colab": {
          "base_uri": "https://localhost:8080/"
        },
        "id": "FfwVlej6BrAc",
        "outputId": "47824236-ad1b-414c-bf8d-c11f195635d3"
      },
      "outputs": [
        {
          "output_type": "stream",
          "name": "stdout",
          "text": [
            "Epoch 1/26\n",
            "240/240 - 3s - 13ms/step - accuracy: 0.8800 - loss: 0.4307 - val_accuracy: 0.9431 - val_loss: 0.2001\n",
            "Epoch 2/26\n",
            "240/240 - 2s - 7ms/step - accuracy: 0.9503 - loss: 0.1706 - val_accuracy: 0.9609 - val_loss: 0.1376\n",
            "Epoch 3/26\n",
            "240/240 - 2s - 10ms/step - accuracy: 0.9656 - loss: 0.1205 - val_accuracy: 0.9638 - val_loss: 0.1233\n",
            "Epoch 4/26\n",
            "240/240 - 2s - 8ms/step - accuracy: 0.9728 - loss: 0.0931 - val_accuracy: 0.9657 - val_loss: 0.1111\n",
            "Epoch 5/26\n",
            "240/240 - 3s - 12ms/step - accuracy: 0.9781 - loss: 0.0753 - val_accuracy: 0.9695 - val_loss: 0.1021\n",
            "Epoch 6/26\n",
            "240/240 - 2s - 7ms/step - accuracy: 0.9821 - loss: 0.0611 - val_accuracy: 0.9697 - val_loss: 0.0961\n",
            "Epoch 7/26\n",
            "240/240 - 3s - 11ms/step - accuracy: 0.9847 - loss: 0.0514 - val_accuracy: 0.9720 - val_loss: 0.0994\n",
            "Epoch 8/26\n",
            "240/240 - 3s - 11ms/step - accuracy: 0.9881 - loss: 0.0416 - val_accuracy: 0.9736 - val_loss: 0.0915\n",
            "Epoch 9/26\n",
            "240/240 - 2s - 7ms/step - accuracy: 0.9889 - loss: 0.0363 - val_accuracy: 0.9749 - val_loss: 0.0872\n",
            "Epoch 10/26\n",
            "240/240 - 4s - 15ms/step - accuracy: 0.9916 - loss: 0.0291 - val_accuracy: 0.9742 - val_loss: 0.0917\n",
            "Epoch 11/26\n",
            "240/240 - 4s - 17ms/step - accuracy: 0.9930 - loss: 0.0247 - val_accuracy: 0.9740 - val_loss: 0.0947\n",
            "Epoch 12/26\n",
            "240/240 - 2s - 6ms/step - accuracy: 0.9942 - loss: 0.0206 - val_accuracy: 0.9737 - val_loss: 0.0972\n",
            "Epoch 13/26\n",
            "240/240 - 2s - 7ms/step - accuracy: 0.9957 - loss: 0.0169 - val_accuracy: 0.9750 - val_loss: 0.0937\n",
            "Epoch 14/26\n",
            "240/240 - 3s - 11ms/step - accuracy: 0.9963 - loss: 0.0149 - val_accuracy: 0.9744 - val_loss: 0.0979\n",
            "Epoch 15/26\n",
            "240/240 - 3s - 11ms/step - accuracy: 0.9964 - loss: 0.0130 - val_accuracy: 0.9753 - val_loss: 0.0958\n",
            "Epoch 16/26\n",
            "240/240 - 4s - 17ms/step - accuracy: 0.9975 - loss: 0.0104 - val_accuracy: 0.9742 - val_loss: 0.0963\n",
            "Epoch 17/26\n",
            "240/240 - 3s - 13ms/step - accuracy: 0.9981 - loss: 0.0082 - val_accuracy: 0.9765 - val_loss: 0.0966\n",
            "Epoch 18/26\n",
            "240/240 - 2s - 9ms/step - accuracy: 0.9980 - loss: 0.0084 - val_accuracy: 0.9756 - val_loss: 0.1025\n",
            "Epoch 19/26\n",
            "240/240 - 4s - 15ms/step - accuracy: 0.9983 - loss: 0.0079 - val_accuracy: 0.9768 - val_loss: 0.0984\n",
            "Epoch 20/26\n",
            "240/240 - 2s - 7ms/step - accuracy: 0.9985 - loss: 0.0066 - val_accuracy: 0.9747 - val_loss: 0.1099\n",
            "Epoch 21/26\n",
            "240/240 - 3s - 11ms/step - accuracy: 0.9988 - loss: 0.0054 - val_accuracy: 0.9762 - val_loss: 0.1078\n",
            "Epoch 22/26\n",
            "240/240 - 3s - 10ms/step - accuracy: 0.9993 - loss: 0.0039 - val_accuracy: 0.9754 - val_loss: 0.1186\n",
            "Epoch 23/26\n",
            "240/240 - 2s - 6ms/step - accuracy: 0.9965 - loss: 0.0112 - val_accuracy: 0.9718 - val_loss: 0.1208\n",
            "Epoch 24/26\n",
            "240/240 - 4s - 15ms/step - accuracy: 0.9971 - loss: 0.0088 - val_accuracy: 0.9754 - val_loss: 0.1275\n",
            "Epoch 25/26\n",
            "240/240 - 4s - 17ms/step - accuracy: 0.9988 - loss: 0.0043 - val_accuracy: 0.9781 - val_loss: 0.1112\n",
            "Epoch 26/26\n",
            "240/240 - 3s - 11ms/step - accuracy: 0.9996 - loss: 0.0021 - val_accuracy: 0.9768 - val_loss: 0.1172\n"
          ]
        }
      ],
      "source": [
        "\n",
        "history = model.fit(x_train, y_train, validation_split=0.2, epochs=26, batch_size=200, verbose=2)\n"
      ]
    },
    {
      "cell_type": "markdown",
      "source": [
        "### Plotting the training and validation loss\n"
      ],
      "metadata": {
        "id": "am-45ZmRFoTW"
      }
    },
    {
      "cell_type": "code",
      "execution_count": null,
      "metadata": {
        "colab": {
          "base_uri": "https://localhost:8080/",
          "height": 564
        },
        "id": "0hyLMo1sBqBj",
        "outputId": "28b6ebe8-b60e-4fde-a524-5431a6e4b6cc"
      },
      "outputs": [
        {
          "output_type": "display_data",
          "data": {
            "text/plain": [
              "<Figure size 1200x600 with 1 Axes>"
            ],
            "image/png": "[encoded data removed]"
          },
          "metadata": {}
        }
      ],
      "source": [
        "\n",
        "plt.figure(figsize=(12, 6))\n",
        "plt.plot(history.history['loss'], label='Training Loss')\n",
        "plt.plot(history.history['val_loss'], label='Validation Loss')\n",
        "plt.title('Training and Validation Loss')\n",
        "plt.xlabel('Epochs')\n",
        "plt.ylabel('Loss')\n",
        "plt.legend()\n",
        "plt.show()\n"
      ]
    },
    {
      "cell_type": "markdown",
      "metadata": {
        "id": "2aY8bo0HS7p_"
      },
      "source": [
        "## **To choose the best epoch from the training and validation loss curve:**\n",
        "\n",
        "* Look for the epoch with lowest validation loss\n",
        "In your plot:\n",
        "\n",
        "* Training loss keeps decreasing.\n",
        "\n",
        "* Validation loss decreases until around epoch 4 or 5, then it plateaus or slightly increases.\n",
        "\n",
        "### **This suggests:**\n",
        "\n",
        "* Epoch 4 or 5 is likely the best choice — after that, the model may start overfitting (training loss improves, but validation loss doesn't)."
      ]
    },
    {
      "cell_type": "markdown",
      "source": [
        "### Show various performance metrics\n"
      ],
      "metadata": {
        "id": "QMFuuxRXFqtX"
      }
    },
    {
      "cell_type": "code",
      "execution_count": null,
      "metadata": {
        "id": "IWUAA12LBn7L",
        "colab": {
          "base_uri": "https://localhost:8080/"
        },
        "outputId": "45cbc697-cee6-4c79-db8e-0133038a28f0"
      },
      "outputs": [
        {
          "output_type": "stream",
          "name": "stdout",
          "text": [
            "Test accuracy: 0.9793\n"
          ]
        }
      ],
      "source": [
        "\n",
        "# Evaluating the model on the test set\n",
        "test_loss, test_accuracy = model.evaluate(x_test, y_test, verbose=0)\n",
        "print(f'Test accuracy: {test_accuracy:.4f}')\n"
      ]
    },
    {
      "cell_type": "markdown",
      "source": [
        "# Making predictions\n"
      ],
      "metadata": {
        "id": "7JQCf3V9FtF5"
      }
    },
    {
      "cell_type": "code",
      "execution_count": null,
      "metadata": {
        "id": "ZdLjfIyxMPFY",
        "colab": {
          "base_uri": "https://localhost:8080/"
        },
        "outputId": "f5dc1d14-f846-40dc-9f44-d2b28423cedc"
      },
      "outputs": [
        {
          "output_type": "stream",
          "name": "stdout",
          "text": [
            "\u001b[1m313/313\u001b[0m \u001b[32m━━━━━━━━━━━━━━━━━━━━\u001b[0m\u001b[37m\u001b[0m \u001b[1m1s\u001b[0m 2ms/step\n"
          ]
        }
      ],
      "source": [
        "\n",
        "y_pred = model.predict(x_test)"
      ]
    },
    {
      "cell_type": "markdown",
      "source": [
        "### pick the class with highest probability"
      ],
      "metadata": {
        "id": "spFXqgHnL3cc"
      }
    },
    {
      "cell_type": "code",
      "execution_count": null,
      "metadata": {
        "id": "FGq_Y9qIMRrB",
        "colab": {
          "base_uri": "https://localhost:8080/"
        },
        "outputId": "b968e733-4b08-438d-ca70-d3d36279079c"
      },
      "outputs": [
        {
          "output_type": "execute_result",
          "data": {
            "text/plain": [
              "np.int64(0)"
            ]
          },
          "metadata": {},
          "execution_count": 21
        }
      ],
      "source": [
        "np.argmax(y_pred[3])"
      ]
    },
    {
      "cell_type": "markdown",
      "source": [
        "## transform the actual and predicted to one dimensional before generating reports\n"
      ],
      "metadata": {
        "id": "4mJPMSXCL1xF"
      }
    },
    {
      "cell_type": "code",
      "execution_count": null,
      "metadata": {
        "id": "S5iVL8ztBmxz"
      },
      "outputs": [],
      "source": [
        "y_pred_classes = np.argmax(y_pred, axis=1)\n",
        "y_true_classes = np.argmax(y_test, axis=1)\n"
      ]
    },
    {
      "cell_type": "code",
      "execution_count": null,
      "metadata": {
        "id": "-QpgYmREXQMl",
        "colab": {
          "base_uri": "https://localhost:8080/"
        },
        "outputId": "16fa89b1-4cbd-4eb3-9cea-dba78ed31b55"
      },
      "outputs": [
        {
          "output_type": "execute_result",
          "data": {
            "text/plain": [
              "array([2.4837576e-11, 2.0153549e-12, 1.0092399e-10, 4.9016702e-08,\n",
              "       7.8236512e-15, 6.9096774e-13, 1.5803491e-21, 9.9999958e-01,\n",
              "       1.6611243e-09, 3.7442265e-07], dtype=float32)"
            ]
          },
          "metadata": {},
          "execution_count": 23
        }
      ],
      "source": [
        "y_pred[0]"
      ]
    },
    {
      "cell_type": "markdown",
      "source": [
        "### Printing classification report\n"
      ],
      "metadata": {
        "id": "VrY4dDTJFvb_"
      }
    },
    {
      "cell_type": "code",
      "execution_count": null,
      "metadata": {
        "id": "rad_rCDSBl0L",
        "colab": {
          "base_uri": "https://localhost:8080/"
        },
        "outputId": "a3318243-dd14-4c29-d85f-d7fa8c08167d"
      },
      "outputs": [
        {
          "output_type": "stream",
          "name": "stdout",
          "text": [
            "              precision    recall  f1-score   support\n",
            "\n",
            "           0       0.99      0.99      0.99       980\n",
            "           1       0.99      0.99      0.99      1135\n",
            "           2       0.98      0.97      0.98      1032\n",
            "           3       0.98      0.98      0.98      1010\n",
            "           4       0.97      0.98      0.98       982\n",
            "           5       0.97      0.98      0.98       892\n",
            "           6       0.98      0.98      0.98       958\n",
            "           7       0.97      0.99      0.98      1028\n",
            "           8       0.97      0.98      0.97       974\n",
            "           9       0.98      0.97      0.98      1009\n",
            "\n",
            "    accuracy                           0.98     10000\n",
            "   macro avg       0.98      0.98      0.98     10000\n",
            "weighted avg       0.98      0.98      0.98     10000\n",
            "\n"
          ]
        }
      ],
      "source": [
        "\n",
        "print(classification_report(y_true_classes, y_pred_classes))\n"
      ]
    },
    {
      "cell_type": "markdown",
      "source": [
        "### Plotting the confusion matrix\n"
      ],
      "metadata": {
        "id": "xPiGanxPFxu4"
      }
    },
    {
      "cell_type": "code",
      "execution_count": null,
      "metadata": {
        "id": "ng_U1nmxBkrb",
        "colab": {
          "base_uri": "https://localhost:8080/",
          "height": 718
        },
        "outputId": "1bc36564-2246-4cda-c31a-f726ca5e3ccd"
      },
      "outputs": [
        {
          "output_type": "display_data",
          "data": {
            "text/plain": [
              "<Figure size 1000x800 with 2 Axes>"
            ],
            "image/png": "[encoded data removed]"
          },
          "metadata": {}
        }
      ],
      "source": [
        "\n",
        "conf_matrix = confusion_matrix(y_true_classes, y_pred_classes)\n",
        "plt.figure(figsize=(10, 8))\n",
        "sns.heatmap(conf_matrix, annot=True, cmap='Blues', fmt='d')\n",
        "plt.title('Confusion Matrix')\n",
        "plt.ylabel('True Label')\n",
        "plt.xlabel('Predicted Label')\n",
        "plt.show()\n",
        "\n"
      ]
    },
    {
      "cell_type": "code",
      "execution_count": null,
      "metadata": {
        "id": "0EeBu6QHBjgr"
      },
      "outputs": [],
      "source": []
    },
    {
      "cell_type": "markdown",
      "metadata": {
        "id": "2vmY6M7xNsgS"
      },
      "source": [
        "\n",
        "##Explain how to interpret precision, recall, f1-score and confusion matrix for this ANN model\n",
        "\n",
        "- Precision: The ratio of correctly predicted positive observations to the total predicted positives. High precision means that\n",
        "  more of the predicted positive values are correct.\n",
        "- Recall: The ratio of correctly predicted positive observations to the all observations in actual class. High recall means that\n",
        "  most of the actual positive values were identified.\n",
        "- F1-Score: The weighted average of Precision and Recall. This score will take both false positives and false negatives into account.\n",
        "- Confusion Matrix: A table used to describe the performance of a classification model. The matrix compares the actual target values\n",
        "  with those predicted by the machine learning model. Each row of the matrix represents the instances in an actual class, while\n",
        "  each column represents the instances in a predicted class.\n"
      ]
    },
    {
      "cell_type": "markdown",
      "source": [
        "### Make predictions once the model is ready\n"
      ],
      "metadata": {
        "id": "59Hbw4RKF1hm"
      }
    },
    {
      "cell_type": "code",
      "execution_count": null,
      "metadata": {
        "id": "hxigxG7OBiJE",
        "colab": {
          "base_uri": "https://localhost:8080/",
          "height": 555
        },
        "outputId": "bc08caf3-6794-4e25-ddb1-026126ec52d1"
      },
      "outputs": [
        {
          "output_type": "display_data",
          "data": {
            "text/plain": [
              "<Figure size 1200x800 with 10 Axes>"
            ],
            "image/png": "[encoded data removed]"
          },
          "metadata": {}
        }
      ],
      "source": [
        "\n",
        "# Example of predictions on the test set\n",
        "plt.figure(figsize=(12, 8))\n",
        "for i in range(10):\n",
        "    plt.subplot(2, 5, i + 1)\n",
        "    plt.imshow(x_test[i], cmap='gray')\n",
        "    plt.title(f'True: {y_true_classes[i]}, Pred: {y_pred_classes[i]}')\n",
        "    plt.axis('off')\n",
        "plt.show()\n"
      ]
    },
    {
      "cell_type": "code",
      "execution_count": null,
      "metadata": {
        "id": "cXA48UJMBhDW"
      },
      "outputs": [],
      "source": []
    },
    {
      "cell_type": "code",
      "execution_count": null,
      "metadata": {
        "id": "t0yfSHUkNuiz"
      },
      "outputs": [],
      "source": []
    }
  ],
  "metadata": {
    "accelerator": "GPU",
    "colab": {
      "gpuType": "T4",
      "provenance": [],
      "include_colab_link": true
    },
    "kernelspec": {
      "display_name": "Python 3",
      "name": "python3"
    },
    "language_info": {
      "name": "python"
    }
  },
  "nbformat": 4,
  "nbformat_minor": 0
}