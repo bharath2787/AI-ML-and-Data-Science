{
  "cells": [
    {
      "cell_type": "markdown",
      "metadata": {
        "id": "BbFilrIBou1y"
      },
      "source": [
        "#  Assignment: CNN-Based Image Classification Using CIFAR-100\n",
        "**Total Marks: 100**\n",
        "\n",
        "**Instructions:**\n",
        "- This is a programming and analysis-based assignment.\n",
        "- Use TensorFlow/Keras to build your models.\n",
        "- Add appropriate comments and explanations.\n",
        "- Attempt all questions. Marks are indicated.\n"
      ],
      "id": "BbFilrIBou1y"
    },
    {
      "cell_type": "markdown",
      "metadata": {
        "id": "jlMRd06_ou10"
      },
      "source": [
        "##  Section A: Data Exploration and Preprocessing (20 marks)"
      ],
      "id": "jlMRd06_ou10"
    },
    {
      "cell_type": "code",
      "source": [
        "import tensorflow as tf\n",
        "from tensorflow.keras import datasets, layers, models\n",
        "import matplotlib.pyplot as plt\n",
        "import numpy as np"
      ],
      "metadata": {
        "id": "uvftDgnKLI3K"
      },
      "id": "uvftDgnKLI3K",
      "execution_count": 45,
      "outputs": []
    },
    {
      "cell_type": "markdown",
      "metadata": {
        "id": "BLDnxGknou11"
      },
      "source": [
        "**Q1.** (5 marks) Load the CIFAR-100 dataset using `label_mode='fine'`. Print the shape of the training and test sets."
      ],
      "id": "BLDnxGknou11"
    },
    {
      "cell_type": "code",
      "metadata": {
        "id": "itIQrv_6ou11"
      },
      "source": [
        "# Your code here\n",
        "\n",
        "(X_train,y_train), (X_test,y_test) = datasets.cifar100.load_data(label_mode='fine')"
      ],
      "execution_count": 46,
      "outputs": [],
      "id": "itIQrv_6ou11"
    },
    {
      "cell_type": "code",
      "source": [
        "X_train.shape"
      ],
      "metadata": {
        "colab": {
          "base_uri": "https://localhost:8080/"
        },
        "id": "WL7EmOsrL-bY",
        "outputId": "84df0714-bbe0-4155-d560-5743ef148d83"
      },
      "id": "WL7EmOsrL-bY",
      "execution_count": 47,
      "outputs": [
        {
          "output_type": "execute_result",
          "data": {
            "text/plain": [
              "(50000, 32, 32, 3)"
            ]
          },
          "metadata": {},
          "execution_count": 47
        }
      ]
    },
    {
      "cell_type": "markdown",
      "metadata": {
        "id": "tUoKWFQmou12"
      },
      "source": [
        "**Q2.** (5 marks) Display 10 random images from the dataset with their class labels."
      ],
      "id": "tUoKWFQmou12"
    },
    {
      "cell_type": "code",
      "metadata": {
        "id": "gtFga54lou12",
        "colab": {
          "base_uri": "https://localhost:8080/"
        },
        "outputId": "29e90e2f-a6b8-442f-dccf-d93bef9ddb88"
      },
      "source": [
        "# Your code here\n",
        "for i in range(0,10):\n",
        "  print(X_train[i],y_train[i])"
      ],
      "execution_count": 48,
      "outputs": [
        {
          "output_type": "stream",
          "name": "stdout",
          "text": [
            "[[[255 255 255]\n",
            "  [255 255 255]\n",
            "  [255 255 255]\n",
            "  ...\n",
            "  [195 205 193]\n",
            "  [212 224 204]\n",
            "  [182 194 167]]\n",
            "\n",
            " [[255 255 255]\n",
            "  [254 254 254]\n",
            "  [254 254 254]\n",
            "  ...\n",
            "  [170 176 150]\n",
            "  [161 168 130]\n",
            "  [146 154 113]]\n",
            "\n",
            " [[255 255 255]\n",
            "  [254 254 254]\n",
            "  [255 255 255]\n",
            "  ...\n",
            "  [189 199 169]\n",
            "  [166 178 130]\n",
            "  [121 133  87]]\n",
            "\n",
            " ...\n",
            "\n",
            " [[148 185  79]\n",
            "  [142 182  57]\n",
            "  [140 179  60]\n",
            "  ...\n",
            "  [ 30  17   1]\n",
            "  [ 65  62  15]\n",
            "  [ 76  77  20]]\n",
            "\n",
            " [[122 157  66]\n",
            "  [120 155  58]\n",
            "  [126 160  71]\n",
            "  ...\n",
            "  [ 22  16   3]\n",
            "  [ 97 112  56]\n",
            "  [141 161  87]]\n",
            "\n",
            " [[ 87 122  41]\n",
            "  [ 88 122  39]\n",
            "  [101 134  56]\n",
            "  ...\n",
            "  [ 34  36  10]\n",
            "  [105 133  59]\n",
            "  [138 173  79]]] [19]\n",
            "[[[255 255 255]\n",
            "  [253 253 253]\n",
            "  [253 253 253]\n",
            "  ...\n",
            "  [253 253 253]\n",
            "  [253 253 253]\n",
            "  [255 255 255]]\n",
            "\n",
            " [[255 255 255]\n",
            "  [255 255 255]\n",
            "  [255 255 255]\n",
            "  ...\n",
            "  [255 255 255]\n",
            "  [255 255 255]\n",
            "  [255 255 255]]\n",
            "\n",
            " [[255 255 255]\n",
            "  [255 255 255]\n",
            "  [255 255 255]\n",
            "  ...\n",
            "  [255 255 255]\n",
            "  [255 255 255]\n",
            "  [255 255 255]]\n",
            "\n",
            " ...\n",
            "\n",
            " [[255 255 255]\n",
            "  [255 255 255]\n",
            "  [255 255 255]\n",
            "  ...\n",
            "  [255 255 255]\n",
            "  [255 255 255]\n",
            "  [255 255 255]]\n",
            "\n",
            " [[255 255 255]\n",
            "  [255 255 255]\n",
            "  [255 255 255]\n",
            "  ...\n",
            "  [255 255 255]\n",
            "  [255 255 255]\n",
            "  [255 255 255]]\n",
            "\n",
            " [[255 255 255]\n",
            "  [253 253 253]\n",
            "  [253 253 253]\n",
            "  ...\n",
            "  [253 253 253]\n",
            "  [253 253 253]\n",
            "  [255 255 255]]] [29]\n",
            "[[[250 250 248]\n",
            "  [248 249 243]\n",
            "  [247 248 239]\n",
            "  ...\n",
            "  [250 250 246]\n",
            "  [250 250 246]\n",
            "  [249 250 246]]\n",
            "\n",
            " [[250 251 245]\n",
            "  [248 249 238]\n",
            "  [247 247 234]\n",
            "  ...\n",
            "  [251 251 242]\n",
            "  [251 252 243]\n",
            "  [250 251 243]]\n",
            "\n",
            " [[251 251 244]\n",
            "  [250 248 237]\n",
            "  [250 245 233]\n",
            "  ...\n",
            "  [250 249 238]\n",
            "  [250 249 240]\n",
            "  [250 249 242]]\n",
            "\n",
            " ...\n",
            "\n",
            " [[221 213 191]\n",
            "  [221 206 176]\n",
            "  [225 207 181]\n",
            "  ...\n",
            "  [199 176 134]\n",
            "  [207 193 165]\n",
            "  [233 229 226]]\n",
            "\n",
            " [[225 223 204]\n",
            "  [227 219 196]\n",
            "  [229 216 200]\n",
            "  ...\n",
            "  [204 185 151]\n",
            "  [212 201 180]\n",
            "  [234 232 228]]\n",
            "\n",
            " [[233 233 226]\n",
            "  [234 232 224]\n",
            "  [235 230 225]\n",
            "  ...\n",
            "  [219 209 194]\n",
            "  [223 216 207]\n",
            "  [232 230 228]]] [0]\n",
            "[[[124 194 221]\n",
            "  [131 202 228]\n",
            "  [135 206 228]\n",
            "  ...\n",
            "  [149 225 236]\n",
            "  [143 220 234]\n",
            "  [136 213 230]]\n",
            "\n",
            " [[121 194 220]\n",
            "  [128 201 225]\n",
            "  [134 206 228]\n",
            "  ...\n",
            "  [151 224 234]\n",
            "  [146 222 234]\n",
            "  [142 217 232]]\n",
            "\n",
            " [[122 197 223]\n",
            "  [129 204 228]\n",
            "  [136 208 229]\n",
            "  ...\n",
            "  [156 228 236]\n",
            "  [153 226 237]\n",
            "  [148 221 235]]\n",
            "\n",
            " ...\n",
            "\n",
            " [[129  42  59]\n",
            "  [147  17  38]\n",
            "  [151  16  30]\n",
            "  ...\n",
            "  [234 231 225]\n",
            "  [238 240 233]\n",
            "  [224 197 201]]\n",
            "\n",
            " [[150  21  40]\n",
            "  [152  17  33]\n",
            "  [156  25  36]\n",
            "  ...\n",
            "  [227 225 221]\n",
            "  [231 241 233]\n",
            "  [231 236 230]]\n",
            "\n",
            " [[147  12  25]\n",
            "  [146  11  23]\n",
            "  [156  15  29]\n",
            "  ...\n",
            "  [230 237 232]\n",
            "  [243 237 236]\n",
            "  [243 230 231]]] [11]\n",
            "[[[ 43  49  46]\n",
            "  [ 32  40  34]\n",
            "  [ 87  89  47]\n",
            "  ...\n",
            "  [ 74  84  48]\n",
            "  [ 43  51  30]\n",
            "  [ 39  45  33]]\n",
            "\n",
            " [[ 44  47  51]\n",
            "  [ 38  42  42]\n",
            "  [ 59  61  32]\n",
            "  ...\n",
            "  [ 66  74  47]\n",
            "  [ 40  47  31]\n",
            "  [ 40  46  34]]\n",
            "\n",
            " [[ 45  45  50]\n",
            "  [ 43  43  44]\n",
            "  [ 44  47  30]\n",
            "  ...\n",
            "  [ 51  58  40]\n",
            "  [ 40  46  34]\n",
            "  [ 43  49  37]]\n",
            "\n",
            " ...\n",
            "\n",
            " [[ 51  50  31]\n",
            "  [ 56  51  33]\n",
            "  [ 72  64  45]\n",
            "  ...\n",
            "  [109  94  43]\n",
            "  [160 154  90]\n",
            "  [125 120  62]]\n",
            "\n",
            " [[ 80  77  45]\n",
            "  [ 68  62  33]\n",
            "  [ 78  69  42]\n",
            "  ...\n",
            "  [101  92  54]\n",
            "  [ 82  79  36]\n",
            "  [ 75  76  32]]\n",
            "\n",
            " [[109 102  57]\n",
            "  [ 92  84  47]\n",
            "  [108  99  67]\n",
            "  ...\n",
            "  [ 93  88  60]\n",
            "  [ 55  55  29]\n",
            "  [ 63  67  37]]] [1]\n",
            "[[[190 166 125]\n",
            "  [191 166 123]\n",
            "  [194 167 123]\n",
            "  ...\n",
            "  [ 38  24  14]\n",
            "  [ 28  18  10]\n",
            "  [ 25  14   9]]\n",
            "\n",
            " [[195 149 113]\n",
            "  [192 145 111]\n",
            "  [195 147 115]\n",
            "  ...\n",
            "  [  3   0   5]\n",
            "  [  0   0   3]\n",
            "  [  1   2   4]]\n",
            "\n",
            " [[141  46  34]\n",
            "  [124  38  28]\n",
            "  [114  37  27]\n",
            "  ...\n",
            "  [ 23   3   2]\n",
            "  [  5   1   3]\n",
            "  [  4   0   1]]\n",
            "\n",
            " ...\n",
            "\n",
            " [[255 255 255]\n",
            "  [243 242 243]\n",
            "  [234 232 233]\n",
            "  ...\n",
            "  [253 253 250]\n",
            "  [255 253 254]\n",
            "  [255 255 255]]\n",
            "\n",
            " [[255 255 255]\n",
            "  [224 223 229]\n",
            "  [167 165 181]\n",
            "  ...\n",
            "  [254 254 253]\n",
            "  [254 251 252]\n",
            "  [255 255 255]]\n",
            "\n",
            " [[255 255 255]\n",
            "  [235 234 240]\n",
            "  [203 200 214]\n",
            "  ...\n",
            "  [252 252 252]\n",
            "  [254 253 254]\n",
            "  [255 255 255]]] [86]\n",
            "[[[ 50  54  57]\n",
            "  [ 56  56  61]\n",
            "  [ 52  51  56]\n",
            "  ...\n",
            "  [ 97 113 107]\n",
            "  [ 65  80  68]\n",
            "  [ 67  79  67]]\n",
            "\n",
            " [[ 55  59  62]\n",
            "  [ 64  64  68]\n",
            "  [ 54  52  57]\n",
            "  ...\n",
            "  [101 117 111]\n",
            "  [ 64  80  67]\n",
            "  [ 65  77  66]]\n",
            "\n",
            " [[ 55  56  61]\n",
            "  [ 68  68  72]\n",
            "  [ 56  54  63]\n",
            "  ...\n",
            "  [ 97 111 106]\n",
            "  [ 59  69  62]\n",
            "  [ 57  64  62]]\n",
            "\n",
            " ...\n",
            "\n",
            " [[ 89  86  56]\n",
            "  [105 100  61]\n",
            "  [114 108  69]\n",
            "  ...\n",
            "  [ 94  70  68]\n",
            "  [ 98  74  62]\n",
            "  [113  87  67]]\n",
            "\n",
            " [[ 82  80  60]\n",
            "  [ 90  87  60]\n",
            "  [122 109  74]\n",
            "  ...\n",
            "  [ 89  64  67]\n",
            "  [ 96  66  67]\n",
            "  [ 97  67  66]]\n",
            "\n",
            " [[ 76  74  59]\n",
            "  [ 74  68  60]\n",
            "  [112  99  69]\n",
            "  ...\n",
            "  [ 82  64  64]\n",
            "  [ 90  64  67]\n",
            "  [ 96  66  63]]] [90]\n",
            "[[[178 168 176]\n",
            "  [175 165 173]\n",
            "  [175 165 173]\n",
            "  ...\n",
            "  [168 159 166]\n",
            "  [168 158 166]\n",
            "  [168 159 167]]\n",
            "\n",
            " [[186 175 184]\n",
            "  [182 172 180]\n",
            "  [182 172 180]\n",
            "  ...\n",
            "  [178 168 176]\n",
            "  [178 168 176]\n",
            "  [178 170 177]]\n",
            "\n",
            " [[190 180 188]\n",
            "  [188 178 186]\n",
            "  [188 178 186]\n",
            "  ...\n",
            "  [184 174 182]\n",
            "  [184 174 182]\n",
            "  [185 176 183]]\n",
            "\n",
            " ...\n",
            "\n",
            " [[248 244 241]\n",
            "  [243 239 236]\n",
            "  [243 239 236]\n",
            "  ...\n",
            "  [245 241 238]\n",
            "  [245 241 238]\n",
            "  [249 245 242]]\n",
            "\n",
            " [[248 244 241]\n",
            "  [244 240 237]\n",
            "  [245 241 238]\n",
            "  ...\n",
            "  [245 241 238]\n",
            "  [245 241 238]\n",
            "  [249 245 242]]\n",
            "\n",
            " [[248 244 241]\n",
            "  [244 240 237]\n",
            "  [245 241 238]\n",
            "  ...\n",
            "  [245 241 238]\n",
            "  [245 241 238]\n",
            "  [249 245 242]]] [28]\n",
            "[[[122 159 186]\n",
            "  [127 163 190]\n",
            "  [134 170 197]\n",
            "  ...\n",
            "  [130 156 176]\n",
            "  [124 149 169]\n",
            "  [119 144 164]]\n",
            "\n",
            " [[126 159 184]\n",
            "  [130 163 187]\n",
            "  [137 170 194]\n",
            "  ...\n",
            "  [129 155 172]\n",
            "  [124 149 166]\n",
            "  [119 144 161]]\n",
            "\n",
            " [[133 165 187]\n",
            "  [137 169 190]\n",
            "  [143 174 197]\n",
            "  ...\n",
            "  [131 157 171]\n",
            "  [126 152 166]\n",
            "  [121 147 161]]\n",
            "\n",
            " ...\n",
            "\n",
            " [[ 86  86  86]\n",
            "  [ 86  86  86]\n",
            "  [ 87  87  88]\n",
            "  ...\n",
            "  [ 42  44  43]\n",
            "  [ 40  42  41]\n",
            "  [ 38  40  39]]\n",
            "\n",
            " [[ 80  80  80]\n",
            "  [ 81  81  81]\n",
            "  [ 82  82  82]\n",
            "  ...\n",
            "  [ 39  41  40]\n",
            "  [ 38  40  39]\n",
            "  [ 36  38  37]]\n",
            "\n",
            " [[ 75  75  75]\n",
            "  [ 76  76  76]\n",
            "  [ 78  78  78]\n",
            "  ...\n",
            "  [ 38  40  39]\n",
            "  [ 36  38  37]\n",
            "  [ 35  37  36]]] [23]\n",
            "[[[255 255 255]\n",
            "  [255 255 255]\n",
            "  [255 255 255]\n",
            "  ...\n",
            "  [206 206 205]\n",
            "  [255 255 255]\n",
            "  [255 255 255]]\n",
            "\n",
            " [[255 255 255]\n",
            "  [254 254 254]\n",
            "  [255 255 255]\n",
            "  ...\n",
            "  [227 227 225]\n",
            "  [254 254 254]\n",
            "  [255 255 255]]\n",
            "\n",
            " [[255 255 255]\n",
            "  [255 255 255]\n",
            "  [255 255 255]\n",
            "  ...\n",
            "  [255 255 255]\n",
            "  [255 255 255]\n",
            "  [255 255 255]]\n",
            "\n",
            " ...\n",
            "\n",
            " [[145 134 130]\n",
            "  [112 103 102]\n",
            "  [101 101 100]\n",
            "  ...\n",
            "  [255 255 255]\n",
            "  [255 255 255]\n",
            "  [255 255 255]]\n",
            "\n",
            " [[147 138 135]\n",
            "  [112 104 105]\n",
            "  [ 83  86  85]\n",
            "  ...\n",
            "  [255 255 255]\n",
            "  [255 255 255]\n",
            "  [255 255 255]]\n",
            "\n",
            " [[222 219 219]\n",
            "  [198 197 198]\n",
            "  [203 207 208]\n",
            "  ...\n",
            "  [255 255 255]\n",
            "  [255 255 255]\n",
            "  [255 255 255]]] [31]\n"
          ]
        }
      ],
      "id": "gtFga54lou12"
    },
    {
      "cell_type": "code",
      "source": [
        "y_train[0:2]"
      ],
      "metadata": {
        "colab": {
          "base_uri": "https://localhost:8080/"
        },
        "id": "RgWQj76XPOX0",
        "outputId": "19990d04-99a0-42c7-a82f-cfd794c6b9dc"
      },
      "id": "RgWQj76XPOX0",
      "execution_count": 49,
      "outputs": [
        {
          "output_type": "execute_result",
          "data": {
            "text/plain": [
              "array([[19],\n",
              "       [29]])"
            ]
          },
          "metadata": {},
          "execution_count": 49
        }
      ]
    },
    {
      "cell_type": "code",
      "source": [
        "y_train = y_train.reshape(-1,)"
      ],
      "metadata": {
        "id": "AD5p4ND7QA6n"
      },
      "id": "AD5p4ND7QA6n",
      "execution_count": 50,
      "outputs": []
    },
    {
      "cell_type": "code",
      "source": [
        "y_train[0:10]"
      ],
      "metadata": {
        "colab": {
          "base_uri": "https://localhost:8080/"
        },
        "id": "BzhsjaIDQDcQ",
        "outputId": "4318bf9e-8fc2-4b97-c1ff-c654b1c4baa5"
      },
      "id": "BzhsjaIDQDcQ",
      "execution_count": 51,
      "outputs": [
        {
          "output_type": "execute_result",
          "data": {
            "text/plain": [
              "array([19, 29,  0, 11,  1, 86, 90, 28, 23, 31])"
            ]
          },
          "metadata": {},
          "execution_count": 51
        }
      ]
    },
    {
      "cell_type": "code",
      "source": [
        "X_train[4]"
      ],
      "metadata": {
        "colab": {
          "base_uri": "https://localhost:8080/",
          "height": 73
        },
        "id": "9olDaOmmQTxS",
        "outputId": "55bfcd1e-cd1d-4d70-9479-6508df5dfd81"
      },
      "id": "9olDaOmmQTxS",
      "execution_count": 52,
      "outputs": [
        {
          "output_type": "execute_result",
          "data": {
            "text/plain": [
              "array([[[ 43,  49,  46],\n",
              "        [ 32,  40,  34],\n",
              "        [ 87,  89,  47],\n",
              "        ...,\n",
              "        [ 74,  84,  48],\n",
              "        [ 43,  51,  30],\n",
              "        [ 39,  45,  33]],\n",
              "\n",
              "       [[ 44,  47,  51],\n",
              "        [ 38,  42,  42],\n",
              "        [ 59,  61,  32],\n",
              "        ...,\n",
              "        [ 66,  74,  47],\n",
              "        [ 40,  47,  31],\n",
              "        [ 40,  46,  34]],\n",
              "\n",
              "       [[ 45,  45,  50],\n",
              "        [ 43,  43,  44],\n",
              "        [ 44,  47,  30],\n",
              "        ...,\n",
              "        [ 51,  58,  40],\n",
              "        [ 40,  46,  34],\n",
              "        [ 43,  49,  37]],\n",
              "\n",
              "       ...,\n",
              "\n",
              "       [[ 51,  50,  31],\n",
              "        [ 56,  51,  33],\n",
              "        [ 72,  64,  45],\n",
              "        ...,\n",
              "        [109,  94,  43],\n",
              "        [160, 154,  90],\n",
              "        [125, 120,  62]],\n",
              "\n",
              "       [[ 80,  77,  45],\n",
              "        [ 68,  62,  33],\n",
              "        [ 78,  69,  42],\n",
              "        ...,\n",
              "        [101,  92,  54],\n",
              "        [ 82,  79,  36],\n",
              "        [ 75,  76,  32]],\n",
              "\n",
              "       [[109, 102,  57],\n",
              "        [ 92,  84,  47],\n",
              "        [108,  99,  67],\n",
              "        ...,\n",
              "        [ 93,  88,  60],\n",
              "        [ 55,  55,  29],\n",
              "        [ 63,  67,  37]]], dtype=uint8)"
            ],
            "text/html": [
              "<style>\n",
              "      .ndarray_repr .ndarray_raw_data {\n",
              "        display: none;\n",
              "      }\n",
              "      .ndarray_repr.show_array .ndarray_raw_data {\n",
              "        display: block;\n",
              "      }\n",
              "      .ndarray_repr.show_array .ndarray_image_preview {\n",
              "        display: none;\n",
              "      }\n",
              "      </style>\n",
              "      <div id=\"id-5d804332-a7c4-4e2b-ac11-e7b0b2bb6fd2\" class=\"ndarray_repr\"><pre>ndarray (32, 32, 3) <button style=\"padding: 0 2px;\">show data</button></pre><img src=\"data:image/png;base64,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\" class=\"ndarray_image_preview\" /><pre class=\"ndarray_raw_data\">array([[[ 43,  49,  46],\n",
              "        [ 32,  40,  34],\n",
              "        [ 87,  89,  47],\n",
              "        ...,\n",
              "        [ 74,  84,  48],\n",
              "        [ 43,  51,  30],\n",
              "        [ 39,  45,  33]],\n",
              "\n",
              "       [[ 44,  47,  51],\n",
              "        [ 38,  42,  42],\n",
              "        [ 59,  61,  32],\n",
              "        ...,\n",
              "        [ 66,  74,  47],\n",
              "        [ 40,  47,  31],\n",
              "        [ 40,  46,  34]],\n",
              "\n",
              "       [[ 45,  45,  50],\n",
              "        [ 43,  43,  44],\n",
              "        [ 44,  47,  30],\n",
              "        ...,\n",
              "        [ 51,  58,  40],\n",
              "        [ 40,  46,  34],\n",
              "        [ 43,  49,  37]],\n",
              "\n",
              "       ...,\n",
              "\n",
              "       [[ 51,  50,  31],\n",
              "        [ 56,  51,  33],\n",
              "        [ 72,  64,  45],\n",
              "        ...,\n",
              "        [109,  94,  43],\n",
              "        [160, 154,  90],\n",
              "        [125, 120,  62]],\n",
              "\n",
              "       [[ 80,  77,  45],\n",
              "        [ 68,  62,  33],\n",
              "        [ 78,  69,  42],\n",
              "        ...,\n",
              "        [101,  92,  54],\n",
              "        [ 82,  79,  36],\n",
              "        [ 75,  76,  32]],\n",
              "\n",
              "       [[109, 102,  57],\n",
              "        [ 92,  84,  47],\n",
              "        [108,  99,  67],\n",
              "        ...,\n",
              "        [ 93,  88,  60],\n",
              "        [ 55,  55,  29],\n",
              "        [ 63,  67,  37]]], dtype=uint8)</pre></div><script>\n",
              "      (() => {\n",
              "      const titles = ['show data', 'hide data'];\n",
              "      let index = 0\n",
              "      document.querySelector('#id-5d804332-a7c4-4e2b-ac11-e7b0b2bb6fd2 button').onclick = (e) => {\n",
              "        document.querySelector('#id-5d804332-a7c4-4e2b-ac11-e7b0b2bb6fd2').classList.toggle('show_array');\n",
              "        index = (++index) % 2;\n",
              "        document.querySelector('#id-5d804332-a7c4-4e2b-ac11-e7b0b2bb6fd2 button').textContent = titles[index];\n",
              "        e.preventDefault();\n",
              "        e.stopPropagation();\n",
              "      }\n",
              "      })();\n",
              "    </script>"
            ]
          },
          "metadata": {},
          "execution_count": 52
        }
      ]
    },
    {
      "cell_type": "markdown",
      "metadata": {
        "id": "5M42p--7ou12"
      },
      "source": [
        "**Q3.** (5 marks) Normalize the images and one-hot encode the labels. Explain why we perform both operations."
      ],
      "id": "5M42p--7ou12"
    },
    {
      "cell_type": "code",
      "metadata": {
        "id": "qwvBdNCPou12"
      },
      "source": [
        "# Code:\n",
        "# Your code here\n",
        "\n",
        "X_train = X_train/255\n",
        "X_test = X_test/255"
      ],
      "execution_count": 53,
      "outputs": [],
      "id": "qwvBdNCPou12"
    },
    {
      "cell_type": "markdown",
      "metadata": {
        "id": "1onUnqqXou12"
      },
      "source": [
        "**Answer:**\n",
        "\n",
        "_Your explanation here_"
      ],
      "id": "1onUnqqXou12"
    },
    {
      "cell_type": "markdown",
      "metadata": {
        "id": "7PiVEix3ou13"
      },
      "source": [
        "**Q4.** (5 marks) What challenges do you expect when working with 100 classes instead of 10 (like CIFAR-10)?"
      ],
      "id": "7PiVEix3ou13"
    },
    {
      "cell_type": "markdown",
      "metadata": {
        "id": "FYlQZZ0Iou13"
      },
      "source": [
        "_Your answer here_"
      ],
      "id": "FYlQZZ0Iou13"
    },
    {
      "cell_type": "markdown",
      "metadata": {
        "id": "GYgay_c1ou13"
      },
      "source": [
        "##  Section B: Model Design & Training (40 marks)"
      ],
      "id": "GYgay_c1ou13"
    },
    {
      "cell_type": "markdown",
      "metadata": {
        "id": "m3ihHp9Vou13"
      },
      "source": [
        "**Q5.** (20 marks) Build and compile a CNN with at least two convolutional blocks and one dense output layer with 100 neurons. Use appropriate dropout and activation functions. Display the model summary."
      ],
      "id": "m3ihHp9Vou13"
    },
    {
      "cell_type": "code",
      "metadata": {
        "id": "qYriM9tFou13",
        "colab": {
          "base_uri": "https://localhost:8080/"
        },
        "outputId": "2d3ed927-4701-44f5-d11b-9d7e3d6d1bb6"
      },
      "source": [
        "# Your CNN model code here\n",
        "\n",
        "cnn = models.Sequential([\n",
        "    layers.Conv2D(filters=32, kernel_size=(3, 3), activation='relu', input_shape=(32, 32, 3)),\n",
        "    layers.MaxPooling2D((2, 2)),\n",
        "\n",
        "    layers.Conv2D(filters=64, kernel_size=(3, 3), activation='relu'),\n",
        "    layers.MaxPooling2D((2, 2)),\n",
        "\n",
        "    layers.Flatten(),\n",
        "\n",
        "    layers.Dense(100, activation='softmax')\n",
        "])"
      ],
      "execution_count": 59,
      "outputs": [
        {
          "output_type": "stream",
          "name": "stderr",
          "text": [
            "/usr/local/lib/python3.11/dist-packages/keras/src/layers/convolutional/base_conv.py:107: UserWarning: Do not pass an `input_shape`/`input_dim` argument to a layer. When using Sequential models, prefer using an `Input(shape)` object as the first layer in the model instead.\n",
            "  super().__init__(activity_regularizer=activity_regularizer, **kwargs)\n"
          ]
        }
      ],
      "id": "qYriM9tFou13"
    },
    {
      "cell_type": "markdown",
      "metadata": {
        "id": "cW0rJFZ6ou13"
      },
      "source": [
        "**Q6.** (15 marks) Train the model for 15–20 epochs and plot training and validation accuracy curves."
      ],
      "id": "cW0rJFZ6ou13"
    },
    {
      "cell_type": "code",
      "metadata": {
        "id": "La50h-Zpou13"
      },
      "source": [
        "# Your training code here\n",
        "\n",
        "cnn.compile(optimizer='adam',\n",
        "              loss='sparse_categorical_crossentropy',\n",
        "              metrics=['accuracy'])"
      ],
      "execution_count": 61,
      "outputs": [],
      "id": "La50h-Zpou13"
    },
    {
      "cell_type": "markdown",
      "metadata": {
        "id": "_u4kIW2lou13"
      },
      "source": [
        "**Q7.** (10 marks) Report the final test accuracy. Discuss what it indicates about the model's performance."
      ],
      "id": "_u4kIW2lou13"
    },
    {
      "cell_type": "code",
      "metadata": {
        "id": "67WJWFGYou13",
        "colab": {
          "base_uri": "https://localhost:8080/",
          "height": 321
        },
        "outputId": "93ad4554-2a62-40c9-9f4a-54409cd1e075"
      },
      "source": [
        "# Model evaluation code here\n",
        "\n",
        "cnn.summary()"
      ],
      "execution_count": 62,
      "outputs": [
        {
          "output_type": "display_data",
          "data": {
            "text/plain": [
              "\u001b[1mModel: \"sequential\"\u001b[0m\n"
            ],
            "text/html": [
              "<pre style=\"white-space:pre;overflow-x:auto;line-height:normal;font-family:Menlo,'DejaVu Sans Mono',consolas,'Courier New',monospace\"><span style=\"font-weight: bold\">Model: \"sequential\"</span>\n",
              "</pre>\n"
            ]
          },
          "metadata": {}
        },
        {
          "output_type": "display_data",
          "data": {
            "text/plain": [
              "┏━━━━━━━━━━━━━━━━━━━━━━━━━━━━━━━━━┳━━━━━━━━━━━━━━━━━━━━━━━━┳━━━━━━━━━━━━━━━┓\n",
              "┃\u001b[1m \u001b[0m\u001b[1mLayer (type)                   \u001b[0m\u001b[1m \u001b[0m┃\u001b[1m \u001b[0m\u001b[1mOutput Shape          \u001b[0m\u001b[1m \u001b[0m┃\u001b[1m \u001b[0m\u001b[1m      Param #\u001b[0m\u001b[1m \u001b[0m┃\n",
              "┡━━━━━━━━━━━━━━━━━━━━━━━━━━━━━━━━━╇━━━━━━━━━━━━━━━━━━━━━━━━╇━━━━━━━━━━━━━━━┩\n",
              "│ conv2d (\u001b[38;5;33mConv2D\u001b[0m)                 │ (\u001b[38;5;45mNone\u001b[0m, \u001b[38;5;34m30\u001b[0m, \u001b[38;5;34m30\u001b[0m, \u001b[38;5;34m32\u001b[0m)     │           \u001b[38;5;34m896\u001b[0m │\n",
              "├─────────────────────────────────┼────────────────────────┼───────────────┤\n",
              "│ max_pooling2d (\u001b[38;5;33mMaxPooling2D\u001b[0m)    │ (\u001b[38;5;45mNone\u001b[0m, \u001b[38;5;34m15\u001b[0m, \u001b[38;5;34m15\u001b[0m, \u001b[38;5;34m32\u001b[0m)     │             \u001b[38;5;34m0\u001b[0m │\n",
              "├─────────────────────────────────┼────────────────────────┼───────────────┤\n",
              "│ conv2d_1 (\u001b[38;5;33mConv2D\u001b[0m)               │ (\u001b[38;5;45mNone\u001b[0m, \u001b[38;5;34m13\u001b[0m, \u001b[38;5;34m13\u001b[0m, \u001b[38;5;34m64\u001b[0m)     │        \u001b[38;5;34m18,496\u001b[0m │\n",
              "├─────────────────────────────────┼────────────────────────┼───────────────┤\n",
              "│ max_pooling2d_1 (\u001b[38;5;33mMaxPooling2D\u001b[0m)  │ (\u001b[38;5;45mNone\u001b[0m, \u001b[38;5;34m6\u001b[0m, \u001b[38;5;34m6\u001b[0m, \u001b[38;5;34m64\u001b[0m)       │             \u001b[38;5;34m0\u001b[0m │\n",
              "├─────────────────────────────────┼────────────────────────┼───────────────┤\n",
              "│ flatten (\u001b[38;5;33mFlatten\u001b[0m)               │ (\u001b[38;5;45mNone\u001b[0m, \u001b[38;5;34m2304\u001b[0m)           │             \u001b[38;5;34m0\u001b[0m │\n",
              "├─────────────────────────────────┼────────────────────────┼───────────────┤\n",
              "│ dense (\u001b[38;5;33mDense\u001b[0m)                   │ (\u001b[38;5;45mNone\u001b[0m, \u001b[38;5;34m100\u001b[0m)            │       \u001b[38;5;34m230,500\u001b[0m │\n",
              "└─────────────────────────────────┴────────────────────────┴───────────────┘\n"
            ],
            "text/html": [
              "<pre style=\"white-space:pre;overflow-x:auto;line-height:normal;font-family:Menlo,'DejaVu Sans Mono',consolas,'Courier New',monospace\">┏━━━━━━━━━━━━━━━━━━━━━━━━━━━━━━━━━┳━━━━━━━━━━━━━━━━━━━━━━━━┳━━━━━━━━━━━━━━━┓\n",
              "┃<span style=\"font-weight: bold\"> Layer (type)                    </span>┃<span style=\"font-weight: bold\"> Output Shape           </span>┃<span style=\"font-weight: bold\">       Param # </span>┃\n",
              "┡━━━━━━━━━━━━━━━━━━━━━━━━━━━━━━━━━╇━━━━━━━━━━━━━━━━━━━━━━━━╇━━━━━━━━━━━━━━━┩\n",
              "│ conv2d (<span style=\"color: #0087ff; text-decoration-color: #0087ff\">Conv2D</span>)                 │ (<span style=\"color: #00d7ff; text-decoration-color: #00d7ff\">None</span>, <span style=\"color: #00af00; text-decoration-color: #00af00\">30</span>, <span style=\"color: #00af00; text-decoration-color: #00af00\">30</span>, <span style=\"color: #00af00; text-decoration-color: #00af00\">32</span>)     │           <span style=\"color: #00af00; text-decoration-color: #00af00\">896</span> │\n",
              "├─────────────────────────────────┼────────────────────────┼───────────────┤\n",
              "│ max_pooling2d (<span style=\"color: #0087ff; text-decoration-color: #0087ff\">MaxPooling2D</span>)    │ (<span style=\"color: #00d7ff; text-decoration-color: #00d7ff\">None</span>, <span style=\"color: #00af00; text-decoration-color: #00af00\">15</span>, <span style=\"color: #00af00; text-decoration-color: #00af00\">15</span>, <span style=\"color: #00af00; text-decoration-color: #00af00\">32</span>)     │             <span style=\"color: #00af00; text-decoration-color: #00af00\">0</span> │\n",
              "├─────────────────────────────────┼────────────────────────┼───────────────┤\n",
              "│ conv2d_1 (<span style=\"color: #0087ff; text-decoration-color: #0087ff\">Conv2D</span>)               │ (<span style=\"color: #00d7ff; text-decoration-color: #00d7ff\">None</span>, <span style=\"color: #00af00; text-decoration-color: #00af00\">13</span>, <span style=\"color: #00af00; text-decoration-color: #00af00\">13</span>, <span style=\"color: #00af00; text-decoration-color: #00af00\">64</span>)     │        <span style=\"color: #00af00; text-decoration-color: #00af00\">18,496</span> │\n",
              "├─────────────────────────────────┼────────────────────────┼───────────────┤\n",
              "│ max_pooling2d_1 (<span style=\"color: #0087ff; text-decoration-color: #0087ff\">MaxPooling2D</span>)  │ (<span style=\"color: #00d7ff; text-decoration-color: #00d7ff\">None</span>, <span style=\"color: #00af00; text-decoration-color: #00af00\">6</span>, <span style=\"color: #00af00; text-decoration-color: #00af00\">6</span>, <span style=\"color: #00af00; text-decoration-color: #00af00\">64</span>)       │             <span style=\"color: #00af00; text-decoration-color: #00af00\">0</span> │\n",
              "├─────────────────────────────────┼────────────────────────┼───────────────┤\n",
              "│ flatten (<span style=\"color: #0087ff; text-decoration-color: #0087ff\">Flatten</span>)               │ (<span style=\"color: #00d7ff; text-decoration-color: #00d7ff\">None</span>, <span style=\"color: #00af00; text-decoration-color: #00af00\">2304</span>)           │             <span style=\"color: #00af00; text-decoration-color: #00af00\">0</span> │\n",
              "├─────────────────────────────────┼────────────────────────┼───────────────┤\n",
              "│ dense (<span style=\"color: #0087ff; text-decoration-color: #0087ff\">Dense</span>)                   │ (<span style=\"color: #00d7ff; text-decoration-color: #00d7ff\">None</span>, <span style=\"color: #00af00; text-decoration-color: #00af00\">100</span>)            │       <span style=\"color: #00af00; text-decoration-color: #00af00\">230,500</span> │\n",
              "└─────────────────────────────────┴────────────────────────┴───────────────┘\n",
              "</pre>\n"
            ]
          },
          "metadata": {}
        },
        {
          "output_type": "display_data",
          "data": {
            "text/plain": [
              "\u001b[1m Total params: \u001b[0m\u001b[38;5;34m249,892\u001b[0m (976.14 KB)\n"
            ],
            "text/html": [
              "<pre style=\"white-space:pre;overflow-x:auto;line-height:normal;font-family:Menlo,'DejaVu Sans Mono',consolas,'Courier New',monospace\"><span style=\"font-weight: bold\"> Total params: </span><span style=\"color: #00af00; text-decoration-color: #00af00\">249,892</span> (976.14 KB)\n",
              "</pre>\n"
            ]
          },
          "metadata": {}
        },
        {
          "output_type": "display_data",
          "data": {
            "text/plain": [
              "\u001b[1m Trainable params: \u001b[0m\u001b[38;5;34m249,892\u001b[0m (976.14 KB)\n"
            ],
            "text/html": [
              "<pre style=\"white-space:pre;overflow-x:auto;line-height:normal;font-family:Menlo,'DejaVu Sans Mono',consolas,'Courier New',monospace\"><span style=\"font-weight: bold\"> Trainable params: </span><span style=\"color: #00af00; text-decoration-color: #00af00\">249,892</span> (976.14 KB)\n",
              "</pre>\n"
            ]
          },
          "metadata": {}
        },
        {
          "output_type": "display_data",
          "data": {
            "text/plain": [
              "\u001b[1m Non-trainable params: \u001b[0m\u001b[38;5;34m0\u001b[0m (0.00 B)\n"
            ],
            "text/html": [
              "<pre style=\"white-space:pre;overflow-x:auto;line-height:normal;font-family:Menlo,'DejaVu Sans Mono',consolas,'Courier New',monospace\"><span style=\"font-weight: bold\"> Non-trainable params: </span><span style=\"color: #00af00; text-decoration-color: #00af00\">0</span> (0.00 B)\n",
              "</pre>\n"
            ]
          },
          "metadata": {}
        }
      ],
      "id": "67WJWFGYou13"
    },
    {
      "cell_type": "code",
      "source": [
        "cnn.fit(X_train, y_train, epochs=15)"
      ],
      "metadata": {
        "colab": {
          "base_uri": "https://localhost:8080/"
        },
        "id": "JzC1t4NLRsRE",
        "outputId": "0834d444-5822-4b96-8f30-ecac51235452"
      },
      "id": "JzC1t4NLRsRE",
      "execution_count": 63,
      "outputs": [
        {
          "output_type": "stream",
          "name": "stdout",
          "text": [
            "Epoch 1/15\n",
            "\u001b[1m1563/1563\u001b[0m \u001b[32m━━━━━━━━━━━━━━━━━━━━\u001b[0m\u001b[37m\u001b[0m \u001b[1m63s\u001b[0m 40ms/step - accuracy: 0.1199 - loss: 3.8912\n",
            "Epoch 2/15\n",
            "\u001b[1m1563/1563\u001b[0m \u001b[32m━━━━━━━━━━━━━━━━━━━━\u001b[0m\u001b[37m\u001b[0m \u001b[1m80s\u001b[0m 39ms/step - accuracy: 0.3090 - loss: 2.8483\n",
            "Epoch 3/15\n",
            "\u001b[1m1563/1563\u001b[0m \u001b[32m━━━━━━━━━━━━━━━━━━━━\u001b[0m\u001b[37m\u001b[0m \u001b[1m62s\u001b[0m 40ms/step - accuracy: 0.3865 - loss: 2.4665\n",
            "Epoch 4/15\n",
            "\u001b[1m1563/1563\u001b[0m \u001b[32m━━━━━━━━━━━━━━━━━━━━\u001b[0m\u001b[37m\u001b[0m \u001b[1m62s\u001b[0m 40ms/step - accuracy: 0.4439 - loss: 2.2057\n",
            "Epoch 5/15\n",
            "\u001b[1m1563/1563\u001b[0m \u001b[32m━━━━━━━━━━━━━━━━━━━━\u001b[0m\u001b[37m\u001b[0m \u001b[1m62s\u001b[0m 40ms/step - accuracy: 0.4921 - loss: 2.0024\n",
            "Epoch 6/15\n",
            "\u001b[1m1563/1563\u001b[0m \u001b[32m━━━━━━━━━━━━━━━━━━━━\u001b[0m\u001b[37m\u001b[0m \u001b[1m82s\u001b[0m 40ms/step - accuracy: 0.5236 - loss: 1.8353\n",
            "Epoch 7/15\n",
            "\u001b[1m1563/1563\u001b[0m \u001b[32m━━━━━━━━━━━━━━━━━━━━\u001b[0m\u001b[37m\u001b[0m \u001b[1m81s\u001b[0m 39ms/step - accuracy: 0.5571 - loss: 1.6866\n",
            "Epoch 8/15\n",
            "\u001b[1m1563/1563\u001b[0m \u001b[32m━━━━━━━━━━━━━━━━━━━━\u001b[0m\u001b[37m\u001b[0m \u001b[1m83s\u001b[0m 40ms/step - accuracy: 0.5865 - loss: 1.5678\n",
            "Epoch 9/15\n",
            "\u001b[1m1563/1563\u001b[0m \u001b[32m━━━━━━━━━━━━━━━━━━━━\u001b[0m\u001b[37m\u001b[0m \u001b[1m81s\u001b[0m 39ms/step - accuracy: 0.6178 - loss: 1.4411\n",
            "Epoch 10/15\n",
            "\u001b[1m1563/1563\u001b[0m \u001b[32m━━━━━━━━━━━━━━━━━━━━\u001b[0m\u001b[37m\u001b[0m \u001b[1m83s\u001b[0m 40ms/step - accuracy: 0.6396 - loss: 1.3387\n",
            "Epoch 11/15\n",
            "\u001b[1m1563/1563\u001b[0m \u001b[32m━━━━━━━━━━━━━━━━━━━━\u001b[0m\u001b[37m\u001b[0m \u001b[1m81s\u001b[0m 39ms/step - accuracy: 0.6675 - loss: 1.2377\n",
            "Epoch 12/15\n",
            "\u001b[1m1563/1563\u001b[0m \u001b[32m━━━━━━━━━━━━━━━━━━━━\u001b[0m\u001b[37m\u001b[0m \u001b[1m62s\u001b[0m 40ms/step - accuracy: 0.6893 - loss: 1.1468\n",
            "Epoch 13/15\n",
            "\u001b[1m1563/1563\u001b[0m \u001b[32m━━━━━━━━━━━━━━━━━━━━\u001b[0m\u001b[37m\u001b[0m \u001b[1m62s\u001b[0m 40ms/step - accuracy: 0.7047 - loss: 1.0750\n",
            "Epoch 14/15\n",
            "\u001b[1m1563/1563\u001b[0m \u001b[32m━━━━━━━━━━━━━━━━━━━━\u001b[0m\u001b[37m\u001b[0m \u001b[1m81s\u001b[0m 39ms/step - accuracy: 0.7261 - loss: 1.0035\n",
            "Epoch 15/15\n",
            "\u001b[1m1563/1563\u001b[0m \u001b[32m━━━━━━━━━━━━━━━━━━━━\u001b[0m\u001b[37m\u001b[0m \u001b[1m62s\u001b[0m 40ms/step - accuracy: 0.7437 - loss: 0.9294\n"
          ]
        },
        {
          "output_type": "execute_result",
          "data": {
            "text/plain": [
              "<keras.src.callbacks.history.History at 0x7d581f000750>"
            ]
          },
          "metadata": {},
          "execution_count": 63
        }
      ]
    },
    {
      "cell_type": "code",
      "source": [
        "cnn.evaluate(X_test,y_test)"
      ],
      "metadata": {
        "colab": {
          "base_uri": "https://localhost:8080/"
        },
        "id": "SpSA6myGWJ1V",
        "outputId": "413a7781-f50d-4db6-938f-aa5f496d8dc3"
      },
      "id": "SpSA6myGWJ1V",
      "execution_count": 66,
      "outputs": [
        {
          "output_type": "stream",
          "name": "stdout",
          "text": [
            "\u001b[1m313/313\u001b[0m \u001b[32m━━━━━━━━━━━━━━━━━━━━\u001b[0m\u001b[37m\u001b[0m \u001b[1m5s\u001b[0m 16ms/step - accuracy: 0.3530 - loss: 3.6327\n"
          ]
        },
        {
          "output_type": "execute_result",
          "data": {
            "text/plain": [
              "[3.5948221683502197, 0.3544999957084656]"
            ]
          },
          "metadata": {},
          "execution_count": 66
        }
      ]
    },
    {
      "cell_type": "code",
      "source": [],
      "metadata": {
        "id": "-mn-vxtoWJ9D"
      },
      "id": "-mn-vxtoWJ9D",
      "execution_count": null,
      "outputs": []
    },
    {
      "cell_type": "markdown",
      "metadata": {
        "id": "dpAXwrdKou14"
      },
      "source": [
        "_Your explanation here_"
      ],
      "id": "dpAXwrdKou14"
    },
    {
      "cell_type": "markdown",
      "metadata": {
        "id": "ipryLM1cou14"
      },
      "source": [
        "##  Section C: Model Experimentation (20 marks)"
      ],
      "id": "ipryLM1cou14"
    },
    {
      "cell_type": "markdown",
      "metadata": {
        "id": "7H1LzNDkou14"
      },
      "source": [
        "**Q8.** (10 marks) Add one more convolutional block to the CNN. Train and compare accuracy with your previous model. Which one performs better and why?"
      ],
      "id": "7H1LzNDkou14"
    },
    {
      "cell_type": "code",
      "metadata": {
        "id": "c827p-okou14",
        "colab": {
          "base_uri": "https://localhost:8080/"
        },
        "outputId": "ffcaf882-5925-4f15-9a9a-c09aaa7a124b"
      },
      "source": [
        "# Modified model code here\n",
        "\n",
        "cnn1 = models.Sequential([\n",
        "    layers.Conv2D(filters=32, kernel_size=(3, 3), activation='relu', input_shape=(32, 32, 3)),\n",
        "    layers.MaxPooling2D((2, 2)),\n",
        "\n",
        "    layers.Conv2D(filters=64, kernel_size=(3, 3), activation='relu'),\n",
        "    layers.MaxPooling2D((2, 2)),\n",
        "\n",
        "    layers.Conv2D(filters=64, kernel_size=(3, 3), activation='relu'),\n",
        "    layers.MaxPooling2D((2, 2)),\n",
        "\n",
        "    layers.Flatten(),\n",
        "\n",
        "    layers.Dense(100, activation='softmax')\n",
        "])"
      ],
      "execution_count": 68,
      "outputs": [
        {
          "output_type": "stream",
          "name": "stderr",
          "text": [
            "/usr/local/lib/python3.11/dist-packages/keras/src/layers/convolutional/base_conv.py:107: UserWarning: Do not pass an `input_shape`/`input_dim` argument to a layer. When using Sequential models, prefer using an `Input(shape)` object as the first layer in the model instead.\n",
            "  super().__init__(activity_regularizer=activity_regularizer, **kwargs)\n"
          ]
        }
      ],
      "id": "c827p-okou14"
    },
    {
      "cell_type": "code",
      "source": [
        "cnn1.compile(optimizer='adam',\n",
        "              loss='sparse_categorical_crossentropy',\n",
        "              metrics=['accuracy'])"
      ],
      "metadata": {
        "id": "DLN2_MUYW5sL"
      },
      "id": "DLN2_MUYW5sL",
      "execution_count": 69,
      "outputs": []
    },
    {
      "cell_type": "code",
      "source": [
        "cnn1.summary()"
      ],
      "metadata": {
        "colab": {
          "base_uri": "https://localhost:8080/",
          "height": 385
        },
        "id": "czPI0Q4EW5vb",
        "outputId": "c9171da6-38b4-49a3-ff48-6d482e13171f"
      },
      "id": "czPI0Q4EW5vb",
      "execution_count": 70,
      "outputs": [
        {
          "output_type": "display_data",
          "data": {
            "text/plain": [
              "\u001b[1mModel: \"sequential_2\"\u001b[0m\n"
            ],
            "text/html": [
              "<pre style=\"white-space:pre;overflow-x:auto;line-height:normal;font-family:Menlo,'DejaVu Sans Mono',consolas,'Courier New',monospace\"><span style=\"font-weight: bold\">Model: \"sequential_2\"</span>\n",
              "</pre>\n"
            ]
          },
          "metadata": {}
        },
        {
          "output_type": "display_data",
          "data": {
            "text/plain": [
              "┏━━━━━━━━━━━━━━━━━━━━━━━━━━━━━━━━━┳━━━━━━━━━━━━━━━━━━━━━━━━┳━━━━━━━━━━━━━━━┓\n",
              "┃\u001b[1m \u001b[0m\u001b[1mLayer (type)                   \u001b[0m\u001b[1m \u001b[0m┃\u001b[1m \u001b[0m\u001b[1mOutput Shape          \u001b[0m\u001b[1m \u001b[0m┃\u001b[1m \u001b[0m\u001b[1m      Param #\u001b[0m\u001b[1m \u001b[0m┃\n",
              "┡━━━━━━━━━━━━━━━━━━━━━━━━━━━━━━━━━╇━━━━━━━━━━━━━━━━━━━━━━━━╇━━━━━━━━━━━━━━━┩\n",
              "│ conv2d_5 (\u001b[38;5;33mConv2D\u001b[0m)               │ (\u001b[38;5;45mNone\u001b[0m, \u001b[38;5;34m30\u001b[0m, \u001b[38;5;34m30\u001b[0m, \u001b[38;5;34m32\u001b[0m)     │           \u001b[38;5;34m896\u001b[0m │\n",
              "├─────────────────────────────────┼────────────────────────┼───────────────┤\n",
              "│ max_pooling2d_5 (\u001b[38;5;33mMaxPooling2D\u001b[0m)  │ (\u001b[38;5;45mNone\u001b[0m, \u001b[38;5;34m15\u001b[0m, \u001b[38;5;34m15\u001b[0m, \u001b[38;5;34m32\u001b[0m)     │             \u001b[38;5;34m0\u001b[0m │\n",
              "├─────────────────────────────────┼────────────────────────┼───────────────┤\n",
              "│ conv2d_6 (\u001b[38;5;33mConv2D\u001b[0m)               │ (\u001b[38;5;45mNone\u001b[0m, \u001b[38;5;34m13\u001b[0m, \u001b[38;5;34m13\u001b[0m, \u001b[38;5;34m64\u001b[0m)     │        \u001b[38;5;34m18,496\u001b[0m │\n",
              "├─────────────────────────────────┼────────────────────────┼───────────────┤\n",
              "│ max_pooling2d_6 (\u001b[38;5;33mMaxPooling2D\u001b[0m)  │ (\u001b[38;5;45mNone\u001b[0m, \u001b[38;5;34m6\u001b[0m, \u001b[38;5;34m6\u001b[0m, \u001b[38;5;34m64\u001b[0m)       │             \u001b[38;5;34m0\u001b[0m │\n",
              "├─────────────────────────────────┼────────────────────────┼───────────────┤\n",
              "│ conv2d_7 (\u001b[38;5;33mConv2D\u001b[0m)               │ (\u001b[38;5;45mNone\u001b[0m, \u001b[38;5;34m4\u001b[0m, \u001b[38;5;34m4\u001b[0m, \u001b[38;5;34m64\u001b[0m)       │        \u001b[38;5;34m36,928\u001b[0m │\n",
              "├─────────────────────────────────┼────────────────────────┼───────────────┤\n",
              "│ max_pooling2d_7 (\u001b[38;5;33mMaxPooling2D\u001b[0m)  │ (\u001b[38;5;45mNone\u001b[0m, \u001b[38;5;34m2\u001b[0m, \u001b[38;5;34m2\u001b[0m, \u001b[38;5;34m64\u001b[0m)       │             \u001b[38;5;34m0\u001b[0m │\n",
              "├─────────────────────────────────┼────────────────────────┼───────────────┤\n",
              "│ flatten_2 (\u001b[38;5;33mFlatten\u001b[0m)             │ (\u001b[38;5;45mNone\u001b[0m, \u001b[38;5;34m256\u001b[0m)            │             \u001b[38;5;34m0\u001b[0m │\n",
              "├─────────────────────────────────┼────────────────────────┼───────────────┤\n",
              "│ dense_2 (\u001b[38;5;33mDense\u001b[0m)                 │ (\u001b[38;5;45mNone\u001b[0m, \u001b[38;5;34m100\u001b[0m)            │        \u001b[38;5;34m25,700\u001b[0m │\n",
              "└─────────────────────────────────┴────────────────────────┴───────────────┘\n"
            ],
            "text/html": [
              "<pre style=\"white-space:pre;overflow-x:auto;line-height:normal;font-family:Menlo,'DejaVu Sans Mono',consolas,'Courier New',monospace\">┏━━━━━━━━━━━━━━━━━━━━━━━━━━━━━━━━━┳━━━━━━━━━━━━━━━━━━━━━━━━┳━━━━━━━━━━━━━━━┓\n",
              "┃<span style=\"font-weight: bold\"> Layer (type)                    </span>┃<span style=\"font-weight: bold\"> Output Shape           </span>┃<span style=\"font-weight: bold\">       Param # </span>┃\n",
              "┡━━━━━━━━━━━━━━━━━━━━━━━━━━━━━━━━━╇━━━━━━━━━━━━━━━━━━━━━━━━╇━━━━━━━━━━━━━━━┩\n",
              "│ conv2d_5 (<span style=\"color: #0087ff; text-decoration-color: #0087ff\">Conv2D</span>)               │ (<span style=\"color: #00d7ff; text-decoration-color: #00d7ff\">None</span>, <span style=\"color: #00af00; text-decoration-color: #00af00\">30</span>, <span style=\"color: #00af00; text-decoration-color: #00af00\">30</span>, <span style=\"color: #00af00; text-decoration-color: #00af00\">32</span>)     │           <span style=\"color: #00af00; text-decoration-color: #00af00\">896</span> │\n",
              "├─────────────────────────────────┼────────────────────────┼───────────────┤\n",
              "│ max_pooling2d_5 (<span style=\"color: #0087ff; text-decoration-color: #0087ff\">MaxPooling2D</span>)  │ (<span style=\"color: #00d7ff; text-decoration-color: #00d7ff\">None</span>, <span style=\"color: #00af00; text-decoration-color: #00af00\">15</span>, <span style=\"color: #00af00; text-decoration-color: #00af00\">15</span>, <span style=\"color: #00af00; text-decoration-color: #00af00\">32</span>)     │             <span style=\"color: #00af00; text-decoration-color: #00af00\">0</span> │\n",
              "├─────────────────────────────────┼────────────────────────┼───────────────┤\n",
              "│ conv2d_6 (<span style=\"color: #0087ff; text-decoration-color: #0087ff\">Conv2D</span>)               │ (<span style=\"color: #00d7ff; text-decoration-color: #00d7ff\">None</span>, <span style=\"color: #00af00; text-decoration-color: #00af00\">13</span>, <span style=\"color: #00af00; text-decoration-color: #00af00\">13</span>, <span style=\"color: #00af00; text-decoration-color: #00af00\">64</span>)     │        <span style=\"color: #00af00; text-decoration-color: #00af00\">18,496</span> │\n",
              "├─────────────────────────────────┼────────────────────────┼───────────────┤\n",
              "│ max_pooling2d_6 (<span style=\"color: #0087ff; text-decoration-color: #0087ff\">MaxPooling2D</span>)  │ (<span style=\"color: #00d7ff; text-decoration-color: #00d7ff\">None</span>, <span style=\"color: #00af00; text-decoration-color: #00af00\">6</span>, <span style=\"color: #00af00; text-decoration-color: #00af00\">6</span>, <span style=\"color: #00af00; text-decoration-color: #00af00\">64</span>)       │             <span style=\"color: #00af00; text-decoration-color: #00af00\">0</span> │\n",
              "├─────────────────────────────────┼────────────────────────┼───────────────┤\n",
              "│ conv2d_7 (<span style=\"color: #0087ff; text-decoration-color: #0087ff\">Conv2D</span>)               │ (<span style=\"color: #00d7ff; text-decoration-color: #00d7ff\">None</span>, <span style=\"color: #00af00; text-decoration-color: #00af00\">4</span>, <span style=\"color: #00af00; text-decoration-color: #00af00\">4</span>, <span style=\"color: #00af00; text-decoration-color: #00af00\">64</span>)       │        <span style=\"color: #00af00; text-decoration-color: #00af00\">36,928</span> │\n",
              "├─────────────────────────────────┼────────────────────────┼───────────────┤\n",
              "│ max_pooling2d_7 (<span style=\"color: #0087ff; text-decoration-color: #0087ff\">MaxPooling2D</span>)  │ (<span style=\"color: #00d7ff; text-decoration-color: #00d7ff\">None</span>, <span style=\"color: #00af00; text-decoration-color: #00af00\">2</span>, <span style=\"color: #00af00; text-decoration-color: #00af00\">2</span>, <span style=\"color: #00af00; text-decoration-color: #00af00\">64</span>)       │             <span style=\"color: #00af00; text-decoration-color: #00af00\">0</span> │\n",
              "├─────────────────────────────────┼────────────────────────┼───────────────┤\n",
              "│ flatten_2 (<span style=\"color: #0087ff; text-decoration-color: #0087ff\">Flatten</span>)             │ (<span style=\"color: #00d7ff; text-decoration-color: #00d7ff\">None</span>, <span style=\"color: #00af00; text-decoration-color: #00af00\">256</span>)            │             <span style=\"color: #00af00; text-decoration-color: #00af00\">0</span> │\n",
              "├─────────────────────────────────┼────────────────────────┼───────────────┤\n",
              "│ dense_2 (<span style=\"color: #0087ff; text-decoration-color: #0087ff\">Dense</span>)                 │ (<span style=\"color: #00d7ff; text-decoration-color: #00d7ff\">None</span>, <span style=\"color: #00af00; text-decoration-color: #00af00\">100</span>)            │        <span style=\"color: #00af00; text-decoration-color: #00af00\">25,700</span> │\n",
              "└─────────────────────────────────┴────────────────────────┴───────────────┘\n",
              "</pre>\n"
            ]
          },
          "metadata": {}
        },
        {
          "output_type": "display_data",
          "data": {
            "text/plain": [
              "\u001b[1m Total params: \u001b[0m\u001b[38;5;34m82,020\u001b[0m (320.39 KB)\n"
            ],
            "text/html": [
              "<pre style=\"white-space:pre;overflow-x:auto;line-height:normal;font-family:Menlo,'DejaVu Sans Mono',consolas,'Courier New',monospace\"><span style=\"font-weight: bold\"> Total params: </span><span style=\"color: #00af00; text-decoration-color: #00af00\">82,020</span> (320.39 KB)\n",
              "</pre>\n"
            ]
          },
          "metadata": {}
        },
        {
          "output_type": "display_data",
          "data": {
            "text/plain": [
              "\u001b[1m Trainable params: \u001b[0m\u001b[38;5;34m82,020\u001b[0m (320.39 KB)\n"
            ],
            "text/html": [
              "<pre style=\"white-space:pre;overflow-x:auto;line-height:normal;font-family:Menlo,'DejaVu Sans Mono',consolas,'Courier New',monospace\"><span style=\"font-weight: bold\"> Trainable params: </span><span style=\"color: #00af00; text-decoration-color: #00af00\">82,020</span> (320.39 KB)\n",
              "</pre>\n"
            ]
          },
          "metadata": {}
        },
        {
          "output_type": "display_data",
          "data": {
            "text/plain": [
              "\u001b[1m Non-trainable params: \u001b[0m\u001b[38;5;34m0\u001b[0m (0.00 B)\n"
            ],
            "text/html": [
              "<pre style=\"white-space:pre;overflow-x:auto;line-height:normal;font-family:Menlo,'DejaVu Sans Mono',consolas,'Courier New',monospace\"><span style=\"font-weight: bold\"> Non-trainable params: </span><span style=\"color: #00af00; text-decoration-color: #00af00\">0</span> (0.00 B)\n",
              "</pre>\n"
            ]
          },
          "metadata": {}
        }
      ]
    },
    {
      "cell_type": "code",
      "source": [
        "cnn1.fit(X_train, y_train, epochs=5)"
      ],
      "metadata": {
        "colab": {
          "base_uri": "https://localhost:8080/"
        },
        "id": "wfVW1Ae5W5x5",
        "outputId": "b6f4b252-92f4-4290-a655-9cd1633eadd2"
      },
      "id": "wfVW1Ae5W5x5",
      "execution_count": 71,
      "outputs": [
        {
          "output_type": "stream",
          "name": "stdout",
          "text": [
            "Epoch 1/5\n",
            "\u001b[1m1563/1563\u001b[0m \u001b[32m━━━━━━━━━━━━━━━━━━━━\u001b[0m\u001b[37m\u001b[0m \u001b[1m66s\u001b[0m 41ms/step - accuracy: 0.0630 - loss: 4.2005\n",
            "Epoch 2/5\n",
            "\u001b[1m1563/1563\u001b[0m \u001b[32m━━━━━━━━━━━━━━━━━━━━\u001b[0m\u001b[37m\u001b[0m \u001b[1m64s\u001b[0m 41ms/step - accuracy: 0.2019 - loss: 3.3552\n",
            "Epoch 3/5\n",
            "\u001b[1m1563/1563\u001b[0m \u001b[32m━━━━━━━━━━━━━━━━━━━━\u001b[0m\u001b[37m\u001b[0m \u001b[1m64s\u001b[0m 41ms/step - accuracy: 0.2643 - loss: 3.0235\n",
            "Epoch 4/5\n",
            "\u001b[1m1563/1563\u001b[0m \u001b[32m━━━━━━━━━━━━━━━━━━━━\u001b[0m\u001b[37m\u001b[0m \u001b[1m82s\u001b[0m 41ms/step - accuracy: 0.3041 - loss: 2.8129\n",
            "Epoch 5/5\n",
            "\u001b[1m1563/1563\u001b[0m \u001b[32m━━━━━━━━━━━━━━━━━━━━\u001b[0m\u001b[37m\u001b[0m \u001b[1m82s\u001b[0m 41ms/step - accuracy: 0.3305 - loss: 2.6958\n"
          ]
        },
        {
          "output_type": "execute_result",
          "data": {
            "text/plain": [
              "<keras.src.callbacks.history.History at 0x7d581f1b7050>"
            ]
          },
          "metadata": {},
          "execution_count": 71
        }
      ]
    },
    {
      "cell_type": "code",
      "source": [],
      "metadata": {
        "id": "BxnqeVUyW50x"
      },
      "id": "BxnqeVUyW50x",
      "execution_count": null,
      "outputs": []
    },
    {
      "cell_type": "markdown",
      "metadata": {
        "id": "_cV9pXu2ou14"
      },
      "source": [
        "_Comparison answer here_"
      ],
      "id": "_cV9pXu2ou14"
    },
    {
      "cell_type": "markdown",
      "metadata": {
        "id": "YVR3zpYhou14"
      },
      "source": [
        "**Q9.** (10 marks) Use `label_mode='coarse'` and repeat training with the original model (2 conv blocks). Compare the accuracy. Explain why there's a difference."
      ],
      "id": "YVR3zpYhou14"
    },
    {
      "cell_type": "code",
      "metadata": {
        "id": "shwbViR3ou14"
      },
      "source": [
        "# Your code and comparison here\n",
        "(X_train,y_train), (X_test,y_test) = datasets.cifar100.load_data(label_mode='coarse')\n"
      ],
      "execution_count": 72,
      "outputs": [],
      "id": "shwbViR3ou14"
    },
    {
      "cell_type": "code",
      "source": [
        "cnn2 = models.Sequential([\n",
        "    layers.Conv2D(filters=32, kernel_size=(3, 3), activation='relu', input_shape=(32, 32, 3)),\n",
        "    layers.MaxPooling2D((2, 2)),\n",
        "\n",
        "    layers.Conv2D(filters=64, kernel_size=(3, 3), activation='relu'),\n",
        "    layers.MaxPooling2D((2, 2)),\n",
        "\n",
        "    layers.Flatten(),\n",
        "\n",
        "    layers.Dense(100, activation='softmax')\n",
        "])"
      ],
      "metadata": {
        "colab": {
          "base_uri": "https://localhost:8080/"
        },
        "id": "PLP2fuZJaCOf",
        "outputId": "08de2f6a-c00c-41e5-9d5c-82a2c996071c"
      },
      "id": "PLP2fuZJaCOf",
      "execution_count": 73,
      "outputs": [
        {
          "output_type": "stream",
          "name": "stderr",
          "text": [
            "/usr/local/lib/python3.11/dist-packages/keras/src/layers/convolutional/base_conv.py:107: UserWarning: Do not pass an `input_shape`/`input_dim` argument to a layer. When using Sequential models, prefer using an `Input(shape)` object as the first layer in the model instead.\n",
            "  super().__init__(activity_regularizer=activity_regularizer, **kwargs)\n"
          ]
        }
      ]
    },
    {
      "cell_type": "code",
      "source": [
        "cnn2.compile(optimizer='adam',\n",
        "              loss='sparse_categorical_crossentropy',\n",
        "              metrics=['accuracy'])"
      ],
      "metadata": {
        "id": "jLayCMP_aCRj"
      },
      "id": "jLayCMP_aCRj",
      "execution_count": 74,
      "outputs": []
    },
    {
      "cell_type": "code",
      "source": [
        "cnn2.summary()"
      ],
      "metadata": {
        "colab": {
          "base_uri": "https://localhost:8080/",
          "height": 321
        },
        "id": "Ns1a961waId1",
        "outputId": "f0c117fa-dc35-4593-ce77-cdcc06efdb3c"
      },
      "id": "Ns1a961waId1",
      "execution_count": 75,
      "outputs": [
        {
          "output_type": "display_data",
          "data": {
            "text/plain": [
              "\u001b[1mModel: \"sequential_3\"\u001b[0m\n"
            ],
            "text/html": [
              "<pre style=\"white-space:pre;overflow-x:auto;line-height:normal;font-family:Menlo,'DejaVu Sans Mono',consolas,'Courier New',monospace\"><span style=\"font-weight: bold\">Model: \"sequential_3\"</span>\n",
              "</pre>\n"
            ]
          },
          "metadata": {}
        },
        {
          "output_type": "display_data",
          "data": {
            "text/plain": [
              "┏━━━━━━━━━━━━━━━━━━━━━━━━━━━━━━━━━┳━━━━━━━━━━━━━━━━━━━━━━━━┳━━━━━━━━━━━━━━━┓\n",
              "┃\u001b[1m \u001b[0m\u001b[1mLayer (type)                   \u001b[0m\u001b[1m \u001b[0m┃\u001b[1m \u001b[0m\u001b[1mOutput Shape          \u001b[0m\u001b[1m \u001b[0m┃\u001b[1m \u001b[0m\u001b[1m      Param #\u001b[0m\u001b[1m \u001b[0m┃\n",
              "┡━━━━━━━━━━━━━━━━━━━━━━━━━━━━━━━━━╇━━━━━━━━━━━━━━━━━━━━━━━━╇━━━━━━━━━━━━━━━┩\n",
              "│ conv2d_8 (\u001b[38;5;33mConv2D\u001b[0m)               │ (\u001b[38;5;45mNone\u001b[0m, \u001b[38;5;34m30\u001b[0m, \u001b[38;5;34m30\u001b[0m, \u001b[38;5;34m32\u001b[0m)     │           \u001b[38;5;34m896\u001b[0m │\n",
              "├─────────────────────────────────┼────────────────────────┼───────────────┤\n",
              "│ max_pooling2d_8 (\u001b[38;5;33mMaxPooling2D\u001b[0m)  │ (\u001b[38;5;45mNone\u001b[0m, \u001b[38;5;34m15\u001b[0m, \u001b[38;5;34m15\u001b[0m, \u001b[38;5;34m32\u001b[0m)     │             \u001b[38;5;34m0\u001b[0m │\n",
              "├─────────────────────────────────┼────────────────────────┼───────────────┤\n",
              "│ conv2d_9 (\u001b[38;5;33mConv2D\u001b[0m)               │ (\u001b[38;5;45mNone\u001b[0m, \u001b[38;5;34m13\u001b[0m, \u001b[38;5;34m13\u001b[0m, \u001b[38;5;34m64\u001b[0m)     │        \u001b[38;5;34m18,496\u001b[0m │\n",
              "├─────────────────────────────────┼────────────────────────┼───────────────┤\n",
              "│ max_pooling2d_9 (\u001b[38;5;33mMaxPooling2D\u001b[0m)  │ (\u001b[38;5;45mNone\u001b[0m, \u001b[38;5;34m6\u001b[0m, \u001b[38;5;34m6\u001b[0m, \u001b[38;5;34m64\u001b[0m)       │             \u001b[38;5;34m0\u001b[0m │\n",
              "├─────────────────────────────────┼────────────────────────┼───────────────┤\n",
              "│ flatten_3 (\u001b[38;5;33mFlatten\u001b[0m)             │ (\u001b[38;5;45mNone\u001b[0m, \u001b[38;5;34m2304\u001b[0m)           │             \u001b[38;5;34m0\u001b[0m │\n",
              "├─────────────────────────────────┼────────────────────────┼───────────────┤\n",
              "│ dense_3 (\u001b[38;5;33mDense\u001b[0m)                 │ (\u001b[38;5;45mNone\u001b[0m, \u001b[38;5;34m100\u001b[0m)            │       \u001b[38;5;34m230,500\u001b[0m │\n",
              "└─────────────────────────────────┴────────────────────────┴───────────────┘\n"
            ],
            "text/html": [
              "<pre style=\"white-space:pre;overflow-x:auto;line-height:normal;font-family:Menlo,'DejaVu Sans Mono',consolas,'Courier New',monospace\">┏━━━━━━━━━━━━━━━━━━━━━━━━━━━━━━━━━┳━━━━━━━━━━━━━━━━━━━━━━━━┳━━━━━━━━━━━━━━━┓\n",
              "┃<span style=\"font-weight: bold\"> Layer (type)                    </span>┃<span style=\"font-weight: bold\"> Output Shape           </span>┃<span style=\"font-weight: bold\">       Param # </span>┃\n",
              "┡━━━━━━━━━━━━━━━━━━━━━━━━━━━━━━━━━╇━━━━━━━━━━━━━━━━━━━━━━━━╇━━━━━━━━━━━━━━━┩\n",
              "│ conv2d_8 (<span style=\"color: #0087ff; text-decoration-color: #0087ff\">Conv2D</span>)               │ (<span style=\"color: #00d7ff; text-decoration-color: #00d7ff\">None</span>, <span style=\"color: #00af00; text-decoration-color: #00af00\">30</span>, <span style=\"color: #00af00; text-decoration-color: #00af00\">30</span>, <span style=\"color: #00af00; text-decoration-color: #00af00\">32</span>)     │           <span style=\"color: #00af00; text-decoration-color: #00af00\">896</span> │\n",
              "├─────────────────────────────────┼────────────────────────┼───────────────┤\n",
              "│ max_pooling2d_8 (<span style=\"color: #0087ff; text-decoration-color: #0087ff\">MaxPooling2D</span>)  │ (<span style=\"color: #00d7ff; text-decoration-color: #00d7ff\">None</span>, <span style=\"color: #00af00; text-decoration-color: #00af00\">15</span>, <span style=\"color: #00af00; text-decoration-color: #00af00\">15</span>, <span style=\"color: #00af00; text-decoration-color: #00af00\">32</span>)     │             <span style=\"color: #00af00; text-decoration-color: #00af00\">0</span> │\n",
              "├─────────────────────────────────┼────────────────────────┼───────────────┤\n",
              "│ conv2d_9 (<span style=\"color: #0087ff; text-decoration-color: #0087ff\">Conv2D</span>)               │ (<span style=\"color: #00d7ff; text-decoration-color: #00d7ff\">None</span>, <span style=\"color: #00af00; text-decoration-color: #00af00\">13</span>, <span style=\"color: #00af00; text-decoration-color: #00af00\">13</span>, <span style=\"color: #00af00; text-decoration-color: #00af00\">64</span>)     │        <span style=\"color: #00af00; text-decoration-color: #00af00\">18,496</span> │\n",
              "├─────────────────────────────────┼────────────────────────┼───────────────┤\n",
              "│ max_pooling2d_9 (<span style=\"color: #0087ff; text-decoration-color: #0087ff\">MaxPooling2D</span>)  │ (<span style=\"color: #00d7ff; text-decoration-color: #00d7ff\">None</span>, <span style=\"color: #00af00; text-decoration-color: #00af00\">6</span>, <span style=\"color: #00af00; text-decoration-color: #00af00\">6</span>, <span style=\"color: #00af00; text-decoration-color: #00af00\">64</span>)       │             <span style=\"color: #00af00; text-decoration-color: #00af00\">0</span> │\n",
              "├─────────────────────────────────┼────────────────────────┼───────────────┤\n",
              "│ flatten_3 (<span style=\"color: #0087ff; text-decoration-color: #0087ff\">Flatten</span>)             │ (<span style=\"color: #00d7ff; text-decoration-color: #00d7ff\">None</span>, <span style=\"color: #00af00; text-decoration-color: #00af00\">2304</span>)           │             <span style=\"color: #00af00; text-decoration-color: #00af00\">0</span> │\n",
              "├─────────────────────────────────┼────────────────────────┼───────────────┤\n",
              "│ dense_3 (<span style=\"color: #0087ff; text-decoration-color: #0087ff\">Dense</span>)                 │ (<span style=\"color: #00d7ff; text-decoration-color: #00d7ff\">None</span>, <span style=\"color: #00af00; text-decoration-color: #00af00\">100</span>)            │       <span style=\"color: #00af00; text-decoration-color: #00af00\">230,500</span> │\n",
              "└─────────────────────────────────┴────────────────────────┴───────────────┘\n",
              "</pre>\n"
            ]
          },
          "metadata": {}
        },
        {
          "output_type": "display_data",
          "data": {
            "text/plain": [
              "\u001b[1m Total params: \u001b[0m\u001b[38;5;34m249,892\u001b[0m (976.14 KB)\n"
            ],
            "text/html": [
              "<pre style=\"white-space:pre;overflow-x:auto;line-height:normal;font-family:Menlo,'DejaVu Sans Mono',consolas,'Courier New',monospace\"><span style=\"font-weight: bold\"> Total params: </span><span style=\"color: #00af00; text-decoration-color: #00af00\">249,892</span> (976.14 KB)\n",
              "</pre>\n"
            ]
          },
          "metadata": {}
        },
        {
          "output_type": "display_data",
          "data": {
            "text/plain": [
              "\u001b[1m Trainable params: \u001b[0m\u001b[38;5;34m249,892\u001b[0m (976.14 KB)\n"
            ],
            "text/html": [
              "<pre style=\"white-space:pre;overflow-x:auto;line-height:normal;font-family:Menlo,'DejaVu Sans Mono',consolas,'Courier New',monospace\"><span style=\"font-weight: bold\"> Trainable params: </span><span style=\"color: #00af00; text-decoration-color: #00af00\">249,892</span> (976.14 KB)\n",
              "</pre>\n"
            ]
          },
          "metadata": {}
        },
        {
          "output_type": "display_data",
          "data": {
            "text/plain": [
              "\u001b[1m Non-trainable params: \u001b[0m\u001b[38;5;34m0\u001b[0m (0.00 B)\n"
            ],
            "text/html": [
              "<pre style=\"white-space:pre;overflow-x:auto;line-height:normal;font-family:Menlo,'DejaVu Sans Mono',consolas,'Courier New',monospace\"><span style=\"font-weight: bold\"> Non-trainable params: </span><span style=\"color: #00af00; text-decoration-color: #00af00\">0</span> (0.00 B)\n",
              "</pre>\n"
            ]
          },
          "metadata": {}
        }
      ]
    },
    {
      "cell_type": "code",
      "source": [
        "cnn2.fit(X_train, y_train, epochs=5)"
      ],
      "metadata": {
        "colab": {
          "base_uri": "https://localhost:8080/"
        },
        "id": "eNuoxev7aImj",
        "outputId": "c598f5d0-8149-4df6-a8bb-1be4ef56a239"
      },
      "id": "eNuoxev7aImj",
      "execution_count": 76,
      "outputs": [
        {
          "output_type": "stream",
          "name": "stdout",
          "text": [
            "Epoch 1/5\n",
            "\u001b[1m1563/1563\u001b[0m \u001b[32m━━━━━━━━━━━━━━━━━━━━\u001b[0m\u001b[37m\u001b[0m \u001b[1m63s\u001b[0m 39ms/step - accuracy: 0.1443 - loss: 5.2838\n",
            "Epoch 2/5\n",
            "\u001b[1m1563/1563\u001b[0m \u001b[32m━━━━━━━━━━━━━━━━━━━━\u001b[0m\u001b[37m\u001b[0m \u001b[1m81s\u001b[0m 39ms/step - accuracy: 0.2564 - loss: 2.4565\n",
            "Epoch 3/5\n",
            "\u001b[1m1563/1563\u001b[0m \u001b[32m━━━━━━━━━━━━━━━━━━━━\u001b[0m\u001b[37m\u001b[0m \u001b[1m81s\u001b[0m 38ms/step - accuracy: 0.2962 - loss: 2.3127\n",
            "Epoch 4/5\n",
            "\u001b[1m1563/1563\u001b[0m \u001b[32m━━━━━━━━━━━━━━━━━━━━\u001b[0m\u001b[37m\u001b[0m \u001b[1m83s\u001b[0m 39ms/step - accuracy: 0.3427 - loss: 2.1711\n",
            "Epoch 5/5\n",
            "\u001b[1m1563/1563\u001b[0m \u001b[32m━━━━━━━━━━━━━━━━━━━━\u001b[0m\u001b[37m\u001b[0m \u001b[1m60s\u001b[0m 38ms/step - accuracy: 0.3762 - loss: 2.0577\n"
          ]
        },
        {
          "output_type": "execute_result",
          "data": {
            "text/plain": [
              "<keras.src.callbacks.history.History at 0x7d5812277050>"
            ]
          },
          "metadata": {},
          "execution_count": 76
        }
      ]
    },
    {
      "cell_type": "code",
      "source": [
        "cnn2.evaluate(X_test,y_test)"
      ],
      "metadata": {
        "colab": {
          "base_uri": "https://localhost:8080/"
        },
        "id": "po85j8t0bwSq",
        "outputId": "aef6b009-b744-4dc7-8134-dc7da5c91d04"
      },
      "id": "po85j8t0bwSq",
      "execution_count": 78,
      "outputs": [
        {
          "output_type": "stream",
          "name": "stdout",
          "text": [
            "\u001b[1m313/313\u001b[0m \u001b[32m━━━━━━━━━━━━━━━━━━━━\u001b[0m\u001b[37m\u001b[0m \u001b[1m4s\u001b[0m 11ms/step - accuracy: 0.3516 - loss: 2.1897\n"
          ]
        },
        {
          "output_type": "execute_result",
          "data": {
            "text/plain": [
              "[2.184053897857666, 0.3544999957084656]"
            ]
          },
          "metadata": {},
          "execution_count": 78
        }
      ]
    },
    {
      "cell_type": "markdown",
      "metadata": {
        "id": "oaC-Y0T4ou14"
      },
      "source": [
        "_Explanation here_"
      ],
      "id": "oaC-Y0T4ou14"
    },
    {
      "cell_type": "markdown",
      "metadata": {
        "id": "fbUWxWh4ou14"
      },
      "source": [
        "##  Section D: Conceptual Questions (20 marks)"
      ],
      "id": "fbUWxWh4ou14"
    },
    {
      "cell_type": "markdown",
      "metadata": {
        "id": "P-uMaCbTou14"
      },
      "source": [
        "**Q10.** (5 marks) Explain the role of dropout in CNNs. What could happen if we remove dropout layers?"
      ],
      "id": "P-uMaCbTou14"
    },
    {
      "cell_type": "markdown",
      "metadata": {
        "id": "pmBU85Dtou14"
      },
      "source": [
        "Dropout in CNN is a regularization technique in CNN which removes neurons randomly to avoid dependancy on any single neuron. This helps to avoid overfitting. If we remove dropout layers, models can lead to overfitting."
      ],
      "id": "pmBU85Dtou14"
    },
    {
      "cell_type": "markdown",
      "metadata": {
        "id": "YsPiWQXMou14"
      },
      "source": [
        "**Q11.** (5 marks) What is the role of the softmax activation in the output layer of your CNN?\n"
      ],
      "id": "YsPiWQXMou14"
    },
    {
      "cell_type": "markdown",
      "source": [
        "Softmax activation function is used for multiclass classification and converts raw outputs to probabilies summing to 1."
      ],
      "metadata": {
        "id": "WGz6NEHtcmEg"
      },
      "id": "WGz6NEHtcmEg"
    },
    {
      "cell_type": "markdown",
      "metadata": {
        "id": "rehwLKm8ou14"
      },
      "source": [
        "**Q12.** (5 marks) What changes would you make to the CNN architecture to improve training speed and reduce overfitting?"
      ],
      "id": "rehwLKm8ou14"
    },
    {
      "cell_type": "markdown",
      "metadata": {
        "id": "MwMb8qcLou14"
      },
      "source": [
        "Regularization techniques like dropout and batch normalization can be used to reduce overfitting."
      ],
      "id": "MwMb8qcLou14"
    }
  ],
  "metadata": {
    "kernelspec": {
      "display_name": "Python 3",
      "language": "python",
      "name": "python3"
    },
    "language_info": {
      "name": "python",
      "version": ""
    },
    "colab": {
      "provenance": []
    }
  },
  "nbformat": 4,
  "nbformat_minor": 5
}