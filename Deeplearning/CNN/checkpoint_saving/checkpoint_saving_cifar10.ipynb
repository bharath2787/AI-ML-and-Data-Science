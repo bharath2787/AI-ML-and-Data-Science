{
  "nbformat": 4,
  "nbformat_minor": 0,
  "metadata": {
    "colab": {
      "provenance": []
    },
    "kernelspec": {
      "name": "python3",
      "display_name": "Python 3"
    },
    "language_info": {
      "name": "python"
    }
  },
  "cells": [
    {
      "cell_type": "code",
      "execution_count": null,
      "metadata": {
        "id": "Awve0R8vClms"
      },
      "outputs": [],
      "source": []
    },
    {
      "cell_type": "markdown",
      "source": [
        "\n",
        "---\n",
        "\n",
        "###  **Checkpoint Saving – Quick Notes**\n",
        "\n",
        "**What is it?**\n",
        "Checkpointing saves your model's **weights** (or full model) during training to prevent loss from crashes, timeouts, or unexpected interruptions.\n",
        "\n",
        "---\n",
        "\n",
        "###  **Key Parameters (`ModelCheckpoint`)**\n",
        "\n",
        "```python\n",
        "ModelCheckpoint(\n",
        "    filepath='cp.weights.h5',     #  must end with .weights.h5 if saving weights only\n",
        "    save_weights_only=True,       # True: only weights, False: full model\n",
        "    save_best_only=False,         # True: saves only best (based on `monitor`)\n",
        "    save_freq='epoch',            # 'epoch' or an integer (every N batches)\n",
        "    verbose=1                     # 0 = silent, 1 = logs when saving\n",
        ")\n",
        "```\n",
        "\n",
        "---\n",
        "\n",
        "###  **What Gets Saved?**\n",
        "\n",
        "* If `save_weights_only=True`:\n",
        "  → A `.weights.h5` file containing **only the model weights**.\n",
        "\n",
        "* If `save_weights_only=False`:\n",
        "  → A file (e.g., `.keras`) containing **the full model** (architecture + weights + optimizer state).\n",
        "\n",
        "---\n",
        "###  **How to Resume Training**\n",
        "\n",
        "Before calling `model.fit()`:\n",
        "\n",
        "```python\n",
        "if os.path.exists('cp.weights.h5'):\n",
        "    print(\"Loading checkpoint...\")\n",
        "    model.load_weights('cp.weights.h5')\n",
        "```\n",
        "\n",
        "---\n",
        "\n",
        "###  **Best Practices (Colab/Cloud)**\n",
        "\n",
        "* Save checkpoints to **Google Drive** or a persistent location.\n",
        "* Use **short epochs** (5–10) and save frequently.\n",
        "* Combine with **`EarlyStopping`** or resume manually after interruptions.\n",
        "* Use **`save_best_only=True`** to save only the best model (based on validation loss).\n"
      ],
      "metadata": {
        "id": "Gr0vNi6JCnD1"
      }
    },
    {
      "cell_type": "code",
      "source": [],
      "metadata": {
        "id": "c1DY_-6ACnXd"
      },
      "execution_count": null,
      "outputs": []
    },
    {
      "cell_type": "code",
      "source": [
        "# --------------------------------------------\n",
        "# Step 1: Import Libraries\n",
        "# --------------------------------------------\n",
        "import os\n",
        "import tensorflow as tf\n",
        "from tensorflow.keras.models import Sequential\n",
        "from tensorflow.keras.layers import Conv2D, MaxPooling2D, Flatten, Dense, Dropout\n",
        "from tensorflow.keras.callbacks import ModelCheckpoint\n",
        "from tensorflow.keras.datasets import cifar10\n",
        "from tensorflow.keras.utils import to_categorical\n",
        "\n"
      ],
      "metadata": {
        "id": "xnY8lrTDCnrk"
      },
      "execution_count": null,
      "outputs": []
    },
    {
      "cell_type": "code",
      "source": [
        "# --------------------------------------------\n",
        "# Step 2: Load and Preprocess the CIFAR-10 Dataset\n",
        "# --------------------------------------------\n",
        "(X_train, y_train), (X_test, y_test) = cifar10.load_data()\n",
        "\n",
        "# Normalize pixel values\n",
        "X_train = X_train.astype('float32') / 255.0\n",
        "X_test = X_test.astype('float32') / 255.0\n",
        "\n",
        "# One-hot encode labels\n",
        "y_train = to_categorical(y_train, 10)\n",
        "y_test = to_categorical(y_test, 10)\n",
        "\n"
      ],
      "metadata": {
        "id": "UMx0ROiuCvhc"
      },
      "execution_count": null,
      "outputs": []
    },
    {
      "cell_type": "code",
      "source": [
        "\n",
        "# --------------------------------------------\n",
        "# Step 3: Define the CNN Model\n",
        "# --------------------------------------------\n",
        "def create_model():\n",
        "    model = Sequential([\n",
        "        Conv2D(32, (3, 3), activation='relu', input_shape=(32, 32, 3)),\n",
        "        MaxPooling2D((2, 2)),\n",
        "        Conv2D(64, (3, 3), activation='relu'),\n",
        "        MaxPooling2D((2, 2)),\n",
        "        Flatten(),\n",
        "        Dense(64, activation='relu'),\n",
        "        Dropout(0.5),\n",
        "        Dense(10, activation='softmax')\n",
        "    ])\n",
        "    model.compile(optimizer='adam',\n",
        "                  loss='categorical_crossentropy',\n",
        "                  metrics=['accuracy'])\n",
        "    return model\n",
        "\n",
        "model = create_model()\n"
      ],
      "metadata": {
        "id": "YunQZLmWCuer"
      },
      "execution_count": null,
      "outputs": []
    },
    {
      "cell_type": "code",
      "source": [
        "# --------------------------------------------\n",
        "# Step 4: Setup Checkpointing\n",
        "# --------------------------------------------\n",
        "\n",
        "# To use Google Drive (if running in Colab), you can do:\n",
        "from google.colab import drive\n",
        "drive.mount('/content/drive')\n",
        "\n",
        "checkpoint_path = \"/content/drive/MyDrive/0.Latest_DS_Course/CNN/Notebooks/checkpoint_saving/cp.weights.h5\"\n",
        "\n",
        "# checkpoint_dir = \"checkpoints_cifar10\"\n",
        "# os.makedirs(checkpoint_dir, exist_ok=True)\n",
        "# checkpoint_path = os.path.join(checkpoint_dir, \"cp.weights.h5\")\n",
        "\n",
        "checkpoint_callback = ModelCheckpoint(\n",
        "    filepath=checkpoint_path,\n",
        "    save_weights_only=True,\n",
        "    verbose=1\n",
        ")\n",
        "\n"
      ],
      "metadata": {
        "id": "rur3uCKLCtB0"
      },
      "execution_count": null,
      "outputs": []
    },
    {
      "cell_type": "code",
      "source": [
        "# --------------------------------------------\n",
        "# Step 5: Load Checkpoint If Exists\n",
        "# --------------------------------------------\n",
        "if os.path.exists(checkpoint_path):\n",
        "    print(\"Checkpoint found. Loading weights...\")\n",
        "    model.load_weights(checkpoint_path)\n",
        "else:\n",
        "    print(\"No checkpoint found. Training from scratch.\")\n",
        "\n",
        "\n"
      ],
      "metadata": {
        "id": "xHaJXinCCrjs"
      },
      "execution_count": null,
      "outputs": []
    },
    {
      "cell_type": "code",
      "source": [
        "# --------------------------------------------\n",
        "# Step 6: Train the Model with Resume Capability\n",
        "# --------------------------------------------\n",
        "history = model.fit(\n",
        "    X_train, y_train,\n",
        "    validation_data=(X_test, y_test),\n",
        "    epochs=10,\n",
        "    batch_size=64,\n",
        "    callbacks=[checkpoint_callback]\n",
        ")"
      ],
      "metadata": {
        "id": "5BSY9S_sCqQK"
      },
      "execution_count": null,
      "outputs": []
    },
    {
      "cell_type": "code",
      "source": [
        "\n",
        "# --------------------------------------------\n",
        "# Step 7: Evaluate\n",
        "# --------------------------------------------\n",
        "loss, acc = model.evaluate(X_test, y_test)\n",
        "print(f\"\\nTest Accuracy: {acc:.4f}\")\n"
      ],
      "metadata": {
        "id": "kBy9UWxZCo6U"
      },
      "execution_count": null,
      "outputs": []
    }
  ]
}