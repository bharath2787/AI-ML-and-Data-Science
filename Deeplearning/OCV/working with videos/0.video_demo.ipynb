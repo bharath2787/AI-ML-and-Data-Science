{
 "cells": [
  {
   "cell_type": "code",
   "execution_count": 6,
   "id": "a7b5a4dc",
   "metadata": {},
   "outputs": [],
   "source": [
    "import cv2\n",
    "from datetime import datetime\n",
    "\n",
    "# 1. Open webcam (0 for default camera)\n",
    "cap = cv2.VideoCapture(\"vids/sample.mp4\")\n",
    "\n",
    "# This code sets up a video writer in OpenCV, which is used to save processed video frames\n",
    "# fourcc = cv2.VideoWriter_fourcc(*'XVID')\n",
    "# VideoWriter_fourcc specifies the video codec.\n",
    "# 'XVID' is a codec format that compresses video using the MPEG-4 standard.\n",
    "# *'XVID' unpacks the string into separate characters ('X', 'V', 'I', 'D') as required by the function.\n",
    "# Alternatives: 'MJPG', 'MP4V', or 'X264' (depending on your system).\n",
    "\n",
    "# 2. Define video codec and create VideoWriter object\n",
    "fourcc = cv2.VideoWriter_fourcc(*'XVID')  # You can also use 'MJPG' or 'MP4V'\n",
    "out = cv2.VideoWriter('output_with_timestamp.avi', fourcc, 20.0, (640, 480))\n",
    "\n",
    "# 3. Process frames\n",
    "while cap.isOpened():\n",
    "# while True:\n",
    "    ret, frame = cap.read()\n",
    "    if not ret:\n",
    "        # break\n",
    "        cap.set(cv2.CAP_PROP_POS_FRAMES, 0)  # Reset the video to the first frame\n",
    "        continue  # Keep the loop running until 'q' is pressed\n",
    "\n",
    "    # Resize frame to 640x480 (optional but matches VideoWriter size)\n",
    "    frame = cv2.resize(frame, (640, 480))\n",
    "\n",
    "    # 4. Add timestamp overlay\n",
    "    timestamp = datetime.now().strftime('%Y-%m-%d %H:%M:%S')\n",
    "    cv2.putText(frame, f'Time: {timestamp}', (10, 30),\n",
    "                cv2.FONT_HERSHEY_SIMPLEX, 0.7, (0, 255, 255), 2)\n",
    "\n",
    "    # 5. Display frame\n",
    "    cv2.imshow('Webcam Feed with Timestamp', frame)\n",
    "\n",
    "    # 6. Write the frame to the output file\n",
    "    out.write(frame)\n",
    "\n",
    "    # Exit on pressing 'q'\n",
    "    if cv2.waitKey(1) & 0xFF == ord('q'):\n",
    "        break\n",
    "\n",
    "# 7. Release everything\n",
    "cap.release()\n",
    "out.release()\n",
    "cv2.destroyAllWindows()\n"
   ]
  },
  {
   "cell_type": "markdown",
   "id": "e2fee914",
   "metadata": {},
   "source": [
    "## What This Does\n",
    "* Captures webcam video.\n",
    "\n",
    "* Adds the current time on each frame.\n",
    "\n",
    "* Shows live video with overlay.\n",
    "\n",
    "* Saves the processed video as output_with_timestamp.avi."
   ]
  },
  {
   "cell_type": "code",
   "execution_count": null,
   "id": "c0a7dc12",
   "metadata": {},
   "outputs": [],
   "source": []
  }
 ],
 "metadata": {
  "kernelspec": {
   "display_name": "base",
   "language": "python",
   "name": "python3"
  },
  "language_info": {
   "codemirror_mode": {
    "name": "ipython",
    "version": 3
   },
   "file_extension": ".py",
   "mimetype": "text/x-python",
   "name": "python",
   "nbconvert_exporter": "python",
   "pygments_lexer": "ipython3",
   "version": "3.12.7"
  }
 },
 "nbformat": 4,
 "nbformat_minor": 5
}
