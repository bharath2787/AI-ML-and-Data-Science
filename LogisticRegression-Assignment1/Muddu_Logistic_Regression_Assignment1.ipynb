{
  "nbformat": 4,
  "nbformat_minor": 0,
  "metadata": {
    "colab": {
      "provenance": []
    },
    "kernelspec": {
      "name": "python3",
      "display_name": "Python 3"
    },
    "language_info": {
      "name": "python"
    }
  },
  "cells": [
    {
      "cell_type": "markdown",
      "source": [
        "# Bank-Marketing\n",
        "Creating a logistic regression model using python on a bank data, to find out if the customer have subscribed to a specific plan or not.\n",
        "\n",
        "## Problem Statement\n",
        "The data is related to direct marketing campaigns of a Portuguese banking institution. The marketing campaigns were based on phone calls. Often, more than one contact to the same client was required, in order to access if the product (bank term deposit) would be ('yes') or not ('no') subscribed.\n",
        "\n",
        "In this project, you need to build a model for deciding whether a campaign will be successful in getting a client to sign up for the term deposits.\n",
        "\n",
        "## Dataset\n",
        "The dataset is in the form of a csv file and the link to download is given below:\n",
        "https://cdn.upgrad.com/UpGrad/temp/e4993de3-06a6-4c7d-b12f-774ce36b592e/bank.csv\n",
        "\n",
        "## Data Description\n",
        "Bank client data\n",
        "\n",
        "- age (numeric)\n",
        "- job: type of job (categorical: 'admin.','blue-collar','entrepreneur','housemaid','management','retired','self-employed','services','student','technician','unemployed','unknown')\n",
        "- marital: marital status (categorical: 'divorced','married','single','unknown'; note: 'divorced' means divorced or widowed)\n",
        "- education: (categorical \"unknown\",\"secondary\",\"primary\",\"tertiary\")\n",
        "- default: has credit in default? (binary: \"yes\",\"no\")\n",
        "- balance: average yearly balance, in euros (numeric)\n",
        "- housing: has housing loan? (binary: \"yes\",\"no\")\n",
        "- loan: has personal loan? (binary: \"yes\",\"no\")\n",
        "\n",
        "\n",
        "### Data related to the last contact of the current campaign\n",
        "\n",
        "- contact: contact communication type (categorical: \"unknown\",\"telephone\",\"cellular\")\n",
        "- day: last contact day of the month (numeric)\n",
        "- month: last contact month of year (categorical: \"jan\", \"feb\", \"mar\", ..., \"nov\", \"dec\")\n",
        "- duration: last contact duration, in seconds (numeric)\n",
        "\n",
        "### Other attributes:\n",
        "\n",
        "- campaign: number of contacts performed during this campaign and for this client (numeric, includes last contact)\n",
        "- pdays: number of days that passed by after the client was last contacted from a previous campaign (numeric, -1 means client was not previously contacted)\n",
        "- previous: number of contacts performed before this campaign and for this client (numeric)\n",
        "- poutcome: outcome of the previous marketing campaign (categorical: 'failure','nonexistent','success')\n",
        "\n",
        "### Output variable (desired target):\n",
        "\n",
        "- y: has the client subscribed a term deposit? (binary: \"yes\",\"no\")\n",
        "\n",
        "## Objectives\n",
        "You are required to prepare a well-commented an interactive python notebook as your solution to this problem statement. The notebook must meet the following objectives:\n",
        "\n",
        "- Clean the data and drop useless columns.\n",
        "- Make an EDA report, i.e., perform a univariate and bivariate analysis. Also, derive new features based on the given features, remove outliers and correlated variables if necessary.\n",
        "- Visualize the distributions of various features and correlations between them.\n",
        "- Perform feature engineering to extract the correct features for the model.\n",
        "- Build a logistic regression model\n",
        "- Evaluate the model used.\n",
        "\n",
        "## Model Evaluation\n",
        "When you're done with the model building and residual analysis and have made predictions on the test set, just make sure you use y_test and y_pred.\n",
        "\n",
        "where y_test is the test data set for the target variable, and y_pred is the variable containing the predicted values of the target variable on the test set. Also, remember if the VIF for the selected features is not coming high always check the p-values of the variables before applying the model on test data."
      ],
      "metadata": {
        "id": "iJsiSBxJRz-X"
      }
    },
    {
      "cell_type": "markdown",
      "source": [
        "# Logistic Regression Assignment\n",
        "\n",
        "## Total Marks: 100\n",
        "\n",
        "## Instructions:\n",
        "- This assignment is designed to test your ability to build and evaluate a logistic regression model using the given dataset.\n",
        "- Follow the steps provided and answer each question with proper analysis and visualizations.\n",
        "- Ensure that you add comments explaining each step in your code.\n",
        "- Submit your completed Jupyter Notebook file.\n",
        "\n",
        "---"
      ],
      "metadata": {
        "id": "g4HGCbsvS1L-"
      }
    },
    {
      "cell_type": "markdown",
      "source": [
        "\n",
        "\n",
        "\n",
        "\n",
        "\n",
        "\n",
        "\n",
        "### Submission Guidelines:\n",
        "- Ensure your notebook is well-structured and properly commented.\n",
        "- Submit the completed Jupyter Notebook (.ipynb) file.\n"
      ],
      "metadata": {
        "id": "Yg4ABID0TexW"
      }
    },
    {
      "cell_type": "markdown",
      "source": [
        "\n",
        "\n",
        "## Grading Criteria:\n",
        "1. **Data Loading & Inspection** - 10 marks\n",
        "2. **Data Cleaning** - 10 marks\n",
        "3. **Descriptive Statistics** - 10 marks\n",
        "4. **Univariate Analysis** - 10 marks\n",
        "5. **Bivariate Analysis** - 10 marks\n",
        "6. **Multivariate Analysis** - 10 marks\n",
        "7. **Heatmap & Correlation Analysis** - 10 marks\n",
        "8. **Building Logistic Regression Model** - 15 marks\n",
        "9. **Model Evaluation & Interpretation** - 10 marks\n",
        "10. **Final Conclusion** - 5 marks\n",
        "\n",
        "---\n"
      ],
      "metadata": {
        "id": "In0EpNIMS3mO"
      }
    },
    {
      "cell_type": "markdown",
      "source": [
        "## Questions:"
      ],
      "metadata": {
        "id": "IZR-QWCVS7Im"
      }
    },
    {
      "cell_type": "code",
      "source": [],
      "metadata": {
        "id": "BKHEnGhQR0y4"
      },
      "execution_count": null,
      "outputs": []
    },
    {
      "cell_type": "markdown",
      "source": [
        "\n",
        "### 1. Load the Data (5 marks)\n",
        "- Load the dataset into a Pandas DataFrame.\n",
        "- Display the first five rows to understand the structure.\n",
        "- Check for missing values."
      ],
      "metadata": {
        "id": "jsx9Ip-_S9Yf"
      }
    },
    {
      "cell_type": "code",
      "source": [],
      "metadata": {
        "id": "fLNWA0H7S9zx"
      },
      "execution_count": null,
      "outputs": []
    },
    {
      "cell_type": "markdown",
      "source": [
        "\n",
        "### 2. Data Inspection (5 marks)\n",
        "- Display the data types of all columns.\n",
        "- Check for duplicate values and handle them if necessary.\n",
        "- Identify the target variable."
      ],
      "metadata": {
        "id": "ZyAVFtc1S-_u"
      }
    },
    {
      "cell_type": "markdown",
      "source": [
        "\n",
        "### 3. Data Cleaning (10 marks)\n",
        "- Handle missing values appropriately.\n",
        "- Check for outliers using box plots.\n",
        "- Perform any necessary transformations."
      ],
      "metadata": {
        "id": "LhyIfUCGTAte"
      }
    },
    {
      "cell_type": "code",
      "source": [],
      "metadata": {
        "id": "rHou2L2vTBJv"
      },
      "execution_count": null,
      "outputs": []
    },
    {
      "cell_type": "markdown",
      "source": [
        "### 4. Descriptive Statistics (10 marks)\n",
        "- Generate summary statistics for numerical variables.\n",
        "- Provide insights on the distribution of key variables."
      ],
      "metadata": {
        "id": "lwX4j-0nTDjf"
      }
    },
    {
      "cell_type": "code",
      "source": [],
      "metadata": {
        "id": "jAZ3UMJqS_Om"
      },
      "execution_count": null,
      "outputs": []
    },
    {
      "cell_type": "markdown",
      "source": [
        "### 5. Univariate Analysis (10 marks)\n",
        "- Perform and visualize univariate analysis on each column separately.\n",
        "- Use histograms, boxplots, and value counts where applicable."
      ],
      "metadata": {
        "id": "FhArAmaYTEYP"
      }
    },
    {
      "cell_type": "code",
      "source": [],
      "metadata": {
        "id": "e9_12WoSTJMm"
      },
      "execution_count": null,
      "outputs": []
    },
    {
      "cell_type": "markdown",
      "source": [
        "### 6. Bivariate Analysis (10 marks)\n",
        "- Analyze the relationship of each independent variable with the target variable.\n",
        "- Use scatter plots, bar plots, and box plots for visualization."
      ],
      "metadata": {
        "id": "dT28CmdsTGT2"
      }
    },
    {
      "cell_type": "code",
      "source": [],
      "metadata": {
        "id": "E5kG-2eETIvP"
      },
      "execution_count": null,
      "outputs": []
    },
    {
      "cell_type": "markdown",
      "source": [
        "### 7. Multivariate Analysis (10 marks)\n",
        "- Check for correlations between numerical features.\n",
        "- Perform pairwise analysis using pair plots or correlation matrices."
      ],
      "metadata": {
        "id": "7J6L-6mGTJzG"
      }
    },
    {
      "cell_type": "code",
      "source": [],
      "metadata": {
        "id": "xCAVT-ZMTMnG"
      },
      "execution_count": null,
      "outputs": []
    },
    {
      "cell_type": "markdown",
      "source": [
        "### 8. Heatmap & Correlation Analysis (10 marks)\n",
        "- Generate a heatmap to visualize feature correlations.\n",
        "- Interpret the results to understand feature dependencies."
      ],
      "metadata": {
        "id": "45Hg5AYqTOe-"
      }
    },
    {
      "cell_type": "code",
      "source": [],
      "metadata": {
        "id": "MSIwFURHTOzG"
      },
      "execution_count": null,
      "outputs": []
    },
    {
      "cell_type": "markdown",
      "source": [
        "### 9. Build Logistic Regression Model (15 marks)\n",
        "- Split the data into training and testing sets.\n",
        "- Train a logistic regression model on the training data.\n",
        "- Display the model coefficients and intercept."
      ],
      "metadata": {
        "id": "jiSztL7dTRlm"
      }
    },
    {
      "cell_type": "code",
      "source": [],
      "metadata": {
        "id": "0ff6ocryTSK_"
      },
      "execution_count": null,
      "outputs": []
    },
    {
      "cell_type": "markdown",
      "source": [
        "### 11. Interpretation of Metrics (10 marks)\n",
        "- Analyze the model's performance based on the evaluation metrics.\n",
        "- Explain any trade-offs observed in precision and recall.\n"
      ],
      "metadata": {
        "id": "k5TU0mJ5TV_Q"
      }
    },
    {
      "cell_type": "code",
      "source": [],
      "metadata": {
        "id": "SwsLG8V9TWPm"
      },
      "execution_count": null,
      "outputs": []
    },
    {
      "cell_type": "markdown",
      "source": [
        "### 10. Model Evaluation (10 marks)\n",
        "- Generate the confusion matrix.\n",
        "- Compute accuracy, precision, recall, and F1-score.\n",
        "- Interpret the classification report."
      ],
      "metadata": {
        "id": "i2Vvngh6TTc9"
      }
    },
    {
      "cell_type": "code",
      "source": [],
      "metadata": {
        "id": "KRTx9dcATa5f"
      },
      "execution_count": null,
      "outputs": []
    },
    {
      "cell_type": "markdown",
      "source": [
        "\n",
        "### 12. Final Conclusion (5 marks)\n",
        "- Summarize the key findings from the analysis.\n",
        "- Provide suggestions for potential improvements or alternative approaches.\n",
        "\n",
        "---"
      ],
      "metadata": {
        "id": "UYt1H9n9Tag_"
      }
    },
    {
      "cell_type": "code",
      "source": [],
      "metadata": {
        "id": "zClV-eNPTb5l"
      },
      "execution_count": null,
      "outputs": []
    },
    {
      "cell_type": "markdown",
      "source": [],
      "metadata": {
        "id": "WCP7l_UCSxW3"
      }
    }
  ]
}