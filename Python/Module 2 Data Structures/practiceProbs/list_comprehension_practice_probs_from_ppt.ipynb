{
 "cells": [
  {
   "cell_type": "markdown",
   "id": "title-cell",
   "metadata": {},
   "source": [
    "# List Comprehension Practice Problems\n",
    "\n",
    "This notebook contains various list comprehension exercises categorized into basic syntax, \n",
    "if conditions, and if-else conditions."
   ]
  },
  {
   "cell_type": "markdown",
   "id": "basic-syntax-header",
   "metadata": {},
   "source": [
    "## Basic Syntax Practice Problems"
   ]
  },
  {
   "cell_type": "code",
   "execution_count": null,
   "id": "basic-syntax",
   "metadata": {},
   "outputs": [],
   "source": [
    "# Create a list containing the cubes of numbers from 1 to 10.\n",
    "# Convert a list of strings to lowercase.\n",
    "# Given a list of numbers, create a new list with each number multiplied by its index.\n",
    "# Generate a list of tuples, where each tuple contains a number and its square\n",
    "# Given two lists, create a new list by concatenating corresponding elements as strings"
   ]
  },
  {
   "cell_type": "markdown",
   "id": "if-condition-header",
   "metadata": {},
   "source": [
    "## If Condition Practice Problems"
   ]
  },
  {
   "cell_type": "code",
   "execution_count": null,
   "id": "if-condition",
   "metadata": {},
   "outputs": [],
   "source": [
    "# Create a list of numbers greater than 10 from a given list\n",
    "# Filter a list of strings to include only those that contain the letter \"a\".\n",
    "# Extract the even numbers from a list of mixed data types (including strings, etc.)\n",
    "# Given a list of words, filter out those that start with a vowel\n",
    "# From a list of integers, keep only the positive numbers that are also divisible by 3\n",
    "\n"
   ]
  },
  {
   "cell_type": "code",
   "execution_count": null,
   "metadata": {},
   "outputs": [],
   "source": []
  },
  {
   "cell_type": "markdown",
   "metadata": {},
   "source": [
    "## If & Else Condition Practice Problems"
   ]
  },
  {
   "cell_type": "code",
   "execution_count": null,
   "metadata": {},
   "outputs": [],
   "source": [
    "\n",
    "# Given a list of numbers, create a new list where each number is replaced by \"positive\" if it's positive, \"negative\" if it's negative, and \"zero\" if it's zero.\n",
    "# Given a list of words, convert them to uppercase if they are shorter than 5 characters, and to lowercase otherwise.\n",
    "# Create a list where even numbers are doubled, and odd numbers are tripled.\n",
    "# Given a list of strings, replace each string with its length if the length is even, and with the string itself if the length is odd.\n",
    "# From a list of numbers, create a new list where each number is replaced by its square if it's positive and its cube if it's negative.\n",
    "# Given a list of items with prices, apply a 10% discount if the price is greater than $50, and no discount otherwise.\n"
   ]
  }
 ],
 "metadata": {
  "kernelspec": {
   "display_name": "Python 3",
   "language": "python",
   "name": "python3"
  },
  "language_info": {
   "codemirror_mode": {
    "name": "ipython",
    "version": 3
   },
   "file_extension": ".py",
   "mimetype": "text/x-python",
   "name": "python",
   "nbconvert_exporter": "python",
   "pygments_lexer": "ipython3",
   "version": "3.8"
  }
 },
 "nbformat": 4,
 "nbformat_minor": 4
}
