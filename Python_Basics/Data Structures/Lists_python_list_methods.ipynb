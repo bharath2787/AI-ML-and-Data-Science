{
  "cells": [
    {
      "cell_type": "markdown",
      "metadata": {
        "id": "view-in-github",
        "colab_type": "text"
      },
      "source": [
        "<a href=\"https://colab.research.google.com/github/bharath2787/ML-AI/blob/main/Python_Basics/Data%20Structures/Lists_python_list_methods.ipynb\" target=\"_parent\"><img src=\"https://colab.research.google.com/assets/colab-badge.svg\" alt=\"Open In Colab\"/></a>"
      ]
    },
    {
      "cell_type": "markdown",
      "source": [
        "## Lists\n",
        "\n",
        "### What are Lists?\n",
        "* In Python, a list is a built-in data type used to store an ordered collection of items\n",
        "\n",
        "\n",
        "* Lists are used to store multiple items in a single variable.\n",
        "\n",
        "\n"
      ],
      "metadata": {
        "id": "f78mLqm45BBL"
      },
      "id": "f78mLqm45BBL"
    },
    {
      "cell_type": "markdown",
      "id": "30d29240",
      "metadata": {
        "id": "30d29240"
      },
      "source": [
        "## Method: `append()`\n",
        "* Add an item to the end of the list. Similar to a[len(a):] = [x]."
      ]
    },
    {
      "cell_type": "code",
      "execution_count": null,
      "id": "32eb7d62",
      "metadata": {
        "colab": {
          "base_uri": "https://localhost:8080/"
        },
        "id": "32eb7d62",
        "outputId": "e6752db1-5b7d-4e4c-c97a-6387ecbea332"
      },
      "outputs": [
        {
          "output_type": "execute_result",
          "data": {
            "text/plain": [
              "[1, 2, 3, 4]"
            ]
          },
          "metadata": {},
          "execution_count": 5
        }
      ],
      "source": [
        "# Example 1: Add an element to the end of the list\n",
        "my_list = [1, 2, 3]\n",
        "my_list.append(4)\n",
        "my_list"
      ]
    },
    {
      "cell_type": "code",
      "execution_count": null,
      "id": "fee8b6fa",
      "metadata": {
        "colab": {
          "base_uri": "https://localhost:8080/"
        },
        "id": "fee8b6fa",
        "outputId": "42e9ca2c-6694-423a-abc4-7b8c8aafc01a"
      },
      "outputs": [
        {
          "output_type": "execute_result",
          "data": {
            "text/plain": [
              "['apple', 'banana', 'cherry']"
            ]
          },
          "metadata": {},
          "execution_count": 4
        }
      ],
      "source": [
        "# Example 2: Append a string to a list\n",
        "my_list = ['apple', 'banana']\n",
        "my_list.append('cherry')\n",
        "my_list"
      ]
    },
    {
      "cell_type": "markdown",
      "id": "e3276bbb",
      "metadata": {
        "id": "e3276bbb"
      },
      "source": [
        "## Method: `clear()`\n",
        "* Remove all items from the list. Similar to del a[:]."
      ]
    },
    {
      "cell_type": "code",
      "execution_count": null,
      "id": "6b1c962d",
      "metadata": {
        "id": "6b1c962d"
      },
      "outputs": [],
      "source": [
        "# Example 1: Clear all elements from a list\n",
        "my_list = [1, 2, 3, 4]\n",
        "my_list.clear()\n",
        "my_list"
      ]
    },
    {
      "cell_type": "code",
      "execution_count": null,
      "id": "1e5f06de",
      "metadata": {
        "id": "1e5f06de"
      },
      "outputs": [],
      "source": [
        "# Example 2: Clear a list of strings\n",
        "my_list = ['apple', 'banana', 'cherry']\n",
        "my_list.clear()\n",
        "my_list"
      ]
    },
    {
      "cell_type": "markdown",
      "id": "7ac1e20b",
      "metadata": {
        "id": "7ac1e20b"
      },
      "source": [
        "## Method: `copy()`\n",
        "* Return a shallow copy of the list. Similar to a[:].\n",
        "\n"
      ]
    },
    {
      "cell_type": "code",
      "execution_count": null,
      "id": "7c770986",
      "metadata": {
        "id": "7c770986"
      },
      "outputs": [],
      "source": [
        "# Example 1: Create a copy of a list\n",
        "my_list = [1, 2, 3, 4]\n",
        "copied_list = my_list.copy()\n",
        "copied_list"
      ]
    },
    {
      "cell_type": "code",
      "execution_count": null,
      "id": "1c7f8c49",
      "metadata": {
        "id": "1c7f8c49"
      },
      "outputs": [],
      "source": [
        "# Example 2: Copy a list of strings\n",
        "my_list = ['apple', 'banana', 'cherry']\n",
        "copied_list = my_list.copy()\n",
        "copied_list"
      ]
    },
    {
      "cell_type": "markdown",
      "id": "0eb66e8e",
      "metadata": {
        "id": "0eb66e8e"
      },
      "source": [
        "## Method: `count()`\n",
        "* list.count(x)\n",
        "* Return the number of times x appears in the list."
      ]
    },
    {
      "cell_type": "code",
      "execution_count": null,
      "id": "292ca3a0",
      "metadata": {
        "id": "292ca3a0"
      },
      "outputs": [],
      "source": [
        "# Example 1: Count occurrences of an element in a list\n",
        "my_list = [1, 2, 2, 3, 2]\n",
        "my_list.count(2)"
      ]
    },
    {
      "cell_type": "code",
      "execution_count": null,
      "id": "689596e0",
      "metadata": {
        "id": "689596e0"
      },
      "outputs": [],
      "source": [
        "# Example 2: Count string occurrences\n",
        "my_list = ['apple', 'banana', 'apple', 'cherry']\n",
        "my_list.count('apple')"
      ]
    },
    {
      "cell_type": "markdown",
      "id": "57454e95",
      "metadata": {
        "id": "57454e95"
      },
      "source": [
        "## Method: `extend()`\n",
        "* list.extend(iterable)\n",
        "* Extend the list by appending all the items from the iterable. Similar to a[len(a):] = iterable."
      ]
    },
    {
      "cell_type": "code",
      "execution_count": null,
      "id": "811e6900",
      "metadata": {
        "colab": {
          "base_uri": "https://localhost:8080/"
        },
        "id": "811e6900",
        "outputId": "afbf1849-dd2e-4659-eb57-c773097d83d3"
      },
      "outputs": [
        {
          "output_type": "execute_result",
          "data": {
            "text/plain": [
              "[1, 2, 3, 4, 5]"
            ]
          },
          "metadata": {},
          "execution_count": 1
        }
      ],
      "source": [
        "# Example 1: Extend a list with another list\n",
        "my_list = [1, 2, 3]\n",
        "my_list.extend([4, 5])\n",
        "my_list"
      ]
    },
    {
      "cell_type": "code",
      "execution_count": null,
      "id": "e37e659b",
      "metadata": {
        "id": "e37e659b"
      },
      "outputs": [],
      "source": [
        "# Example 2: Extend with a list of strings\n",
        "my_list = ['apple', 'banana']\n",
        "my_list.extend(['cherry', 'date'])\n",
        "my_list"
      ]
    },
    {
      "cell_type": "markdown",
      "id": "f356f31d",
      "metadata": {
        "id": "f356f31d"
      },
      "source": [
        "## Method: `index()`\n",
        "* Return zero-based index in the list of the first item whose value is equal to x.\n",
        "* Raises a ValueError if there is no such item."
      ]
    },
    {
      "cell_type": "code",
      "execution_count": null,
      "id": "50410b24",
      "metadata": {
        "id": "50410b24"
      },
      "outputs": [],
      "source": [
        "# Example 1: Get the index of an element\n",
        "my_list = [1, 2, 3, 4, 5]\n",
        "my_list.index(3)"
      ]
    },
    {
      "cell_type": "code",
      "execution_count": null,
      "id": "79a9abbc",
      "metadata": {
        "id": "79a9abbc"
      },
      "outputs": [],
      "source": [
        "# Example 2: Get index of a string\n",
        "my_list = ['apple', 'banana', 'cherry']\n",
        "my_list.index('banana')"
      ]
    },
    {
      "cell_type": "markdown",
      "id": "f277e2d8",
      "metadata": {
        "id": "f277e2d8"
      },
      "source": [
        "## Method: `insert()`\n",
        "* list.insert(i, x)\n",
        "* Insert an item at a given position.\n",
        "* The first argument is the index of the element before which to insert\n",
        "* so a.insert(0, x) inserts at the front of the list, and a.insert(len(a), x) is equivalent to a.append(x)."
      ]
    },
    {
      "cell_type": "code",
      "execution_count": null,
      "id": "662083ff",
      "metadata": {
        "id": "662083ff"
      },
      "outputs": [],
      "source": [
        "# Example 1: Insert an element at a specific position\n",
        "my_list = [1, 2, 4]\n",
        "my_list.insert(2, 3)\n",
        "my_list"
      ]
    },
    {
      "cell_type": "code",
      "execution_count": null,
      "id": "7573e786",
      "metadata": {
        "id": "7573e786"
      },
      "outputs": [],
      "source": [
        "# Example 2: Insert a string at index 1\n",
        "my_list = ['apple', 'cherry']\n",
        "my_list.insert(1, 'banana')\n",
        "my_list"
      ]
    },
    {
      "cell_type": "markdown",
      "id": "2e04d01a",
      "metadata": {
        "id": "2e04d01a"
      },
      "source": [
        "## Method: `pop()`\n",
        "* list.pop([i])\n",
        "* Remove the item at the given position in the list, and return it.\n",
        "* If no index is specified, a.pop() removes and returns the last item in the list.\n",
        "* It raises an IndexError if the list is empty or the index is outside the list range."
      ]
    },
    {
      "cell_type": "code",
      "execution_count": null,
      "id": "927c3865",
      "metadata": {
        "id": "927c3865"
      },
      "outputs": [],
      "source": [
        "# Example 1: Pop the last element from a list\n",
        "my_list = [1, 2, 3, 4]\n",
        "my_list.pop()\n",
        "my_list"
      ]
    },
    {
      "cell_type": "code",
      "execution_count": null,
      "id": "10e77a15",
      "metadata": {
        "id": "10e77a15"
      },
      "outputs": [],
      "source": [
        "# Example 2: Pop an element from a specific index\n",
        "my_list = ['apple', 'banana', 'cherry']\n",
        "my_list.pop(1)\n",
        "my_list"
      ]
    },
    {
      "cell_type": "markdown",
      "id": "32ddbcae",
      "metadata": {
        "id": "32ddbcae"
      },
      "source": [
        "## Method: `remove()`\n",
        "* list.remove(x)\n",
        "* Remove the first item from the list whose value is equal to x.\n",
        "* It raises a ValueError if there is no such item."
      ]
    },
    {
      "cell_type": "code",
      "execution_count": null,
      "id": "c4ddd972",
      "metadata": {
        "id": "c4ddd972"
      },
      "outputs": [],
      "source": [
        "# Example 1: Remove the first occurrence of an element\n",
        "my_list = [1, 2, 3, 2, 4]\n",
        "my_list.remove(2)\n",
        "my_list"
      ]
    },
    {
      "cell_type": "code",
      "execution_count": null,
      "id": "ee8cab8c",
      "metadata": {
        "id": "ee8cab8c"
      },
      "outputs": [],
      "source": [
        "# Example 2: Remove a string from a list\n",
        "my_list = ['apple', 'banana', 'cherry']\n",
        "my_list.remove('banana')\n",
        "my_list"
      ]
    },
    {
      "cell_type": "markdown",
      "id": "6bf8e71e",
      "metadata": {
        "id": "6bf8e71e"
      },
      "source": [
        "## Method: `reverse()`\n",
        "* Reverse the elements of the list in place.\n",
        "\n"
      ]
    },
    {
      "cell_type": "code",
      "execution_count": null,
      "id": "02c3879a",
      "metadata": {
        "id": "02c3879a"
      },
      "outputs": [],
      "source": [
        "# Example 1: Reverse a list of numbers\n",
        "my_list = [1, 2, 3, 4]\n",
        "my_list.reverse()\n",
        "my_list"
      ]
    },
    {
      "cell_type": "code",
      "execution_count": null,
      "id": "b5ac1b0a",
      "metadata": {
        "id": "b5ac1b0a"
      },
      "outputs": [],
      "source": [
        "# Example 2: Reverse a list of strings\n",
        "my_list = ['apple', 'banana', 'cherry']\n",
        "my_list.reverse()\n",
        "my_list"
      ]
    },
    {
      "cell_type": "markdown",
      "id": "a30433bf",
      "metadata": {
        "id": "a30433bf"
      },
      "source": [
        "## Method: `sort()`\n",
        "* Sort the items of the list in place"
      ]
    },
    {
      "cell_type": "code",
      "execution_count": null,
      "id": "592e4211",
      "metadata": {
        "id": "592e4211"
      },
      "outputs": [],
      "source": [
        "# Example 1: Sort a list of numbers\n",
        "my_list = [4, 2, 3, 1]\n",
        "my_list.sort()\n",
        "my_list"
      ]
    },
    {
      "cell_type": "code",
      "execution_count": null,
      "id": "fb27047e",
      "metadata": {
        "id": "fb27047e",
        "colab": {
          "base_uri": "https://localhost:8080/"
        },
        "outputId": "d09223d6-82ee-47e2-c298-9e91d3d14068"
      },
      "outputs": [
        {
          "output_type": "execute_result",
          "data": {
            "text/plain": [
              "['apple', 'banana', 'cherry']"
            ]
          },
          "metadata": {},
          "execution_count": 2
        }
      ],
      "source": [
        "# Example 2: Sort a list of strings\n",
        "my_list = ['banana', 'apple', 'cherry']\n",
        "my_list.sort()\n",
        "my_list"
      ]
    },
    {
      "cell_type": "code",
      "source": [
        "my_list = ['banana', 'apple', 'cherry']\n",
        "my_list.sort(reverse=True)\n",
        "my_list"
      ],
      "metadata": {
        "colab": {
          "base_uri": "https://localhost:8080/"
        },
        "id": "9LOzoOoj0yqj",
        "outputId": "f1944f28-23d4-4b66-caec-19397a7fa092"
      },
      "id": "9LOzoOoj0yqj",
      "execution_count": null,
      "outputs": [
        {
          "output_type": "execute_result",
          "data": {
            "text/plain": [
              "['cherry', 'banana', 'apple']"
            ]
          },
          "metadata": {},
          "execution_count": 1
        }
      ]
    },
    {
      "cell_type": "code",
      "source": [],
      "metadata": {
        "id": "ot5J4oJ101Av"
      },
      "id": "ot5J4oJ101Av",
      "execution_count": null,
      "outputs": []
    },
    {
      "cell_type": "markdown",
      "source": [
        "## Creating List of Lists"
      ],
      "metadata": {
        "id": "00PCZ1Fk4V2G"
      },
      "id": "00PCZ1Fk4V2G"
    },
    {
      "cell_type": "code",
      "source": [
        "nested_list = [[1, 2], [3, 4], [5, 6]]\n",
        "print(\"Nested List:\", nested_list)"
      ],
      "metadata": {
        "colab": {
          "base_uri": "https://localhost:8080/"
        },
        "id": "2GxdvqPI4YVO",
        "outputId": "b6fbdc95-4232-47ae-ae6b-09b3d7faee34"
      },
      "id": "2GxdvqPI4YVO",
      "execution_count": null,
      "outputs": [
        {
          "output_type": "stream",
          "name": "stdout",
          "text": [
            "Nested List: [[1, 2], [3, 4], [5, 6]]\n"
          ]
        }
      ]
    },
    {
      "cell_type": "markdown",
      "source": [
        "## Heterogeneous List"
      ],
      "metadata": {
        "id": "aSjf5q2E4mSb"
      },
      "id": "aSjf5q2E4mSb"
    },
    {
      "cell_type": "code",
      "source": [
        "\n",
        "# Example of a list with different types of variables\n",
        "mixed_list = [\"Python\", 3.14, True, 42]\n",
        "print(\"List with Variables:\", mixed_list)"
      ],
      "metadata": {
        "colab": {
          "base_uri": "https://localhost:8080/"
        },
        "id": "Y8AM6zYj4cHK",
        "outputId": "07cb0656-2eda-4f08-b253-804f3638b5ee"
      },
      "id": "Y8AM6zYj4cHK",
      "execution_count": null,
      "outputs": [
        {
          "output_type": "stream",
          "name": "stdout",
          "text": [
            "List with Variables: ['Python', 3.14, True, 42]\n"
          ]
        }
      ]
    },
    {
      "cell_type": "markdown",
      "source": [
        "## Indexing and Slicing"
      ],
      "metadata": {
        "id": "D4VlrErI4xfL"
      },
      "id": "D4VlrErI4xfL"
    },
    {
      "cell_type": "code",
      "source": [
        "\n",
        "# Forward Indexing\n",
        "forward_indexing_list = [\"a\", \"b\", \"c\", \"d\"]\n",
        "print(\"Forward Indexing (Element at Index 2):\", forward_indexing_list[2])\n",
        "\n",
        "# Backward Indexing\n",
        "print(\"Backward Indexing (Last Element):\", forward_indexing_list[-1])\n",
        "\n"
      ],
      "metadata": {
        "id": "fukPibvr4qDN"
      },
      "id": "fukPibvr4qDN",
      "execution_count": null,
      "outputs": []
    },
    {
      "cell_type": "markdown",
      "source": [
        "## Slicing"
      ],
      "metadata": {
        "id": "SulT0_K-425t"
      },
      "id": "SulT0_K-425t"
    },
    {
      "cell_type": "code",
      "source": [
        "\n",
        "# Forward Slicing\n",
        "print(\"Forward Slicing (First Three Elements):\", forward_indexing_list[0:3])\n",
        "\n",
        "# Backward Slicing\n",
        "print(\"Backward Slicing (Last Two Elements):\", forward_indexing_list[-2:])\n",
        "\n",
        "# Step Slicing\n",
        "step_slicing_list = [0, 1, 2, 3, 4, 5, 6]\n",
        "print(\"Step Slicing (Every Second Element):\", step_slicing_list[::2])"
      ],
      "metadata": {
        "id": "jMQiTzuU43-2"
      },
      "id": "jMQiTzuU43-2",
      "execution_count": null,
      "outputs": []
    },
    {
      "cell_type": "code",
      "source": [],
      "metadata": {
        "id": "nbdKoYRXObJO"
      },
      "id": "nbdKoYRXObJO",
      "execution_count": null,
      "outputs": []
    },
    {
      "cell_type": "markdown",
      "source": [
        "## List Operations\n",
        "List support operations like concatenation, repetition, and membership tests."
      ],
      "metadata": {
        "id": "Qg9fmuTbObhk"
      },
      "id": "Qg9fmuTbObhk"
    },
    {
      "cell_type": "code",
      "source": [
        "# Concatenation\n",
        "List1 = [1, 2]\n",
        "List2 = [3, 4]\n",
        "concatenated_list = List1 + List2\n",
        "print(\"Concatenated List:\", concatenated_list)\n",
        "\n",
        "# Repetition\n",
        "repeated_list = List1 * 3\n",
        "print(\"Repeated List:\", repeated_list)\n",
        "\n",
        "# Membership Test\n",
        "print(\"Is 2 in List1?\", 2 in List1)"
      ],
      "metadata": {
        "id": "y32Ff4xFOchJ"
      },
      "id": "y32Ff4xFOchJ",
      "execution_count": null,
      "outputs": []
    }
  ],
  "metadata": {
    "colab": {
      "provenance": [],
      "include_colab_link": true
    },
    "language_info": {
      "name": "python"
    },
    "kernelspec": {
      "name": "python3",
      "display_name": "Python 3"
    }
  },
  "nbformat": 4,
  "nbformat_minor": 5
}