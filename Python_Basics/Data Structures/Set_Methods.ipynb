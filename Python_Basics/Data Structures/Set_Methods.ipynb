{
  "nbformat": 4,
  "nbformat_minor": 0,
  "metadata": {
    "colab": {
      "provenance": [],
      "include_colab_link": true
    },
    "kernelspec": {
      "name": "python3",
      "display_name": "Python 3"
    },
    "language_info": {
      "name": "python"
    }
  },
  "cells": [
    {
      "cell_type": "markdown",
      "metadata": {
        "id": "view-in-github",
        "colab_type": "text"
      },
      "source": [
        "<a href=\"https://colab.research.google.com/github/bharath2787/ML-AI/blob/main/Python_Basics/Data%20Structures/Set_Methods.ipynb\" target=\"_parent\"><img src=\"https://colab.research.google.com/assets/colab-badge.svg\" alt=\"Open In Colab\"/></a>"
      ]
    },
    {
      "cell_type": "markdown",
      "source": [
        "# Set Method Demonstrations in Python"
      ],
      "metadata": {
        "id": "d64tF592DOII"
      }
    },
    {
      "cell_type": "markdown",
      "source": [],
      "metadata": {
        "id": "kIxUQ94GDR3F"
      }
    },
    {
      "cell_type": "code",
      "source": [
        "# Create a set for demonstration\n",
        "my_set = {1, 2, 3, 4, 5}\n",
        "print(f\"Original Set: {my_set}\")"
      ],
      "metadata": {
        "colab": {
          "base_uri": "https://localhost:8080/"
        },
        "id": "rFeT5BqPDUO7",
        "outputId": "8dcc9f73-a6d6-4a54-b9e5-f718392758b5"
      },
      "execution_count": null,
      "outputs": [
        {
          "output_type": "stream",
          "name": "stdout",
          "text": [
            "Original Set: {1, 2, 3, 4, 5}\n"
          ]
        }
      ]
    },
    {
      "cell_type": "code",
      "source": [
        "# 1. add(element) - Adds an element to the set\n",
        "print(\"\\nUsing add(element):\")\n",
        "my_set.add(6)  # Adding element 6 to the set\n",
        "print(f\"Set after adding 6: {my_set}\")"
      ],
      "metadata": {
        "colab": {
          "base_uri": "https://localhost:8080/"
        },
        "id": "vbDHwMA_DWzl",
        "outputId": "921e0151-65a3-447a-95b6-77e40bdadc84"
      },
      "execution_count": null,
      "outputs": [
        {
          "output_type": "stream",
          "name": "stdout",
          "text": [
            "\n",
            "Using add(element):\n",
            "Set after adding 6: {1, 2, 3, 4, 5, 6}\n"
          ]
        }
      ]
    },
    {
      "cell_type": "code",
      "source": [
        "# 2. remove(element) - Removes an element from the set, raises KeyError if element not found\n",
        "print(\"\\nUsing remove(element):\")\n",
        "try:\n",
        "    my_set.remove(4)  # Removing element 4 from the set\n",
        "    print(f\"Set after removing 4: {my_set}\")\n",
        "    my_set.remove(10)  # Trying to remove a non-existing element to raise KeyError\n",
        "except KeyError as e:\n",
        "    print(f\"Error: {e}\")"
      ],
      "metadata": {
        "colab": {
          "base_uri": "https://localhost:8080/"
        },
        "id": "4ekKjZQBDYWO",
        "outputId": "736711b7-2547-4611-fb5b-469e16040bc0"
      },
      "execution_count": null,
      "outputs": [
        {
          "output_type": "stream",
          "name": "stdout",
          "text": [
            "\n",
            "Using remove(element):\n",
            "Set after removing 4: {1, 2, 3, 5, 6}\n",
            "Error: 10\n"
          ]
        }
      ]
    },
    {
      "cell_type": "code",
      "source": [
        "# 3. discard(element) - Removes element if exists, does not raise error if element not found\n",
        "print(\"\\nUsing discard(element):\")\n",
        "my_set.discard(5)  # Removing element 5 from the set\n",
        "print(f\"Set after discarding 5: {my_set}\")\n",
        "my_set.discard(10)  # Trying to discard a non-existing element, no error raised\n",
        "print(f\"Set after discarding 10: {my_set}\")"
      ],
      "metadata": {
        "colab": {
          "base_uri": "https://localhost:8080/"
        },
        "id": "RqaVlKogDaUn",
        "outputId": "fdf41399-d21c-4003-d322-0a224732e0c2"
      },
      "execution_count": null,
      "outputs": [
        {
          "output_type": "stream",
          "name": "stdout",
          "text": [
            "\n",
            "Using discard(element):\n",
            "Set after discarding 5: {1, 2, 3, 6}\n",
            "Set after discarding 10: {1, 2, 3, 6}\n"
          ]
        }
      ]
    },
    {
      "cell_type": "code",
      "source": [
        "# 4. pop() - Removes and returns an arbitrary element from the set\n",
        "print(\"\\nUsing pop():\")\n",
        "popped_element = my_set.pop()  # Removes an arbitrary element from the set\n",
        "print(f\"Popped element: {popped_element}\")\n",
        "print(f\"Set after popping an element: {my_set}\")"
      ],
      "metadata": {
        "colab": {
          "base_uri": "https://localhost:8080/"
        },
        "id": "wMMGY-DFDb-e",
        "outputId": "0ace2aa9-c10f-4045-e9f0-dc1561b5107c"
      },
      "execution_count": null,
      "outputs": [
        {
          "output_type": "stream",
          "name": "stdout",
          "text": [
            "\n",
            "Using pop():\n",
            "Popped element: 1\n",
            "Set after popping an element: {2, 3, 6}\n"
          ]
        }
      ]
    },
    {
      "cell_type": "code",
      "source": [
        "# 5. clear() - Removes all elements from the set\n",
        "print(\"\\nUsing clear():\")\n",
        "my_set.clear()  # Clearing all elements from the set\n",
        "print(f\"Set after clearing: {my_set}\")\n"
      ],
      "metadata": {
        "colab": {
          "base_uri": "https://localhost:8080/"
        },
        "id": "56LEvKr3DQeG",
        "outputId": "0c25fde4-553a-4d11-c4c4-13c799fd5eb9"
      },
      "execution_count": null,
      "outputs": [
        {
          "output_type": "stream",
          "name": "stdout",
          "text": [
            "\n",
            "Using clear():\n",
            "Set after clearing: set()\n"
          ]
        }
      ]
    },
    {
      "cell_type": "code",
      "source": [],
      "metadata": {
        "id": "u2EHde5jDOYL"
      },
      "execution_count": null,
      "outputs": []
    }
  ]
}