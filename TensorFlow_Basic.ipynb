{
  "nbformat": 4,
  "nbformat_minor": 0,
  "metadata": {
    "colab": {
      "provenance": [],
      "include_colab_link": true
    },
    "kernelspec": {
      "name": "python3",
      "display_name": "Python 3"
    },
    "language_info": {
      "name": "python"
    }
  },
  "cells": [
    {
      "cell_type": "markdown",
      "metadata": {
        "id": "view-in-github",
        "colab_type": "text"
      },
      "source": [
        "<a href=\"https://colab.research.google.com/github/bharath2787/ML-AI/blob/main/TensorFlow_Basic.ipynb\" target=\"_parent\"><img src=\"https://colab.research.google.com/assets/colab-badge.svg\" alt=\"Open In Colab\"/></a>"
      ]
    },
    {
      "cell_type": "markdown",
      "source": [
        "## TensorFlow Basic Example:"
      ],
      "metadata": {
        "id": "Q6m5FMrciy4h"
      }
    },
    {
      "cell_type": "markdown",
      "source": [
        "\n",
        "\n",
        "---\n",
        "\n",
        "###  **Diagram Logic:**\n",
        "- Constants: `a = 15`, `b = 5`\n",
        "- Operations:\n",
        "  - `Mul`: `prod = a * b`\n",
        "  - `Add`: `sum = a + b`\n",
        "  - `Div`: `res = prod / sum`\n",
        "  - `Print`: Display `res`\n",
        "\n",
        "---\n",
        "\n",
        "###  **TensorFlow Code Implementation (Jupyter Notebook cell)**"
      ],
      "metadata": {
        "id": "Uc3XPi2Mi5GW"
      }
    },
    {
      "cell_type": "markdown",
      "source": [
        "\n",
        "This is a **direct eager execution** version (immediate output, line-by-line)."
      ],
      "metadata": {
        "id": "kBcrkawajDM2"
      }
    },
    {
      "cell_type": "code",
      "source": [
        "import tensorflow as tf\n",
        "\n",
        "# Define constants\n",
        "a = tf.constant(15, name='a')\n",
        "b = tf.constant(5, name='b')\n",
        "\n",
        "# Define operations\n",
        "prod = tf.multiply(a, b, name='Mul')\n",
        "sum_ = tf.add(a, b, name='Add')\n",
        "res = tf.divide(prod, sum_, name='Div')\n",
        "\n",
        "# Print result\n",
        "tf.print(\"Result of (a * b) / (a + b) is:\", res)"
      ],
      "metadata": {
        "colab": {
          "base_uri": "https://localhost:8080/"
        },
        "id": "ikKj4aXti7t-",
        "outputId": "1b48d637-dff5-4bef-ec48-975268b89dca"
      },
      "execution_count": null,
      "outputs": [
        {
          "output_type": "stream",
          "name": "stdout",
          "text": [
            "Result of (a * b) / (a + b) is: 3.75\n"
          ]
        }
      ]
    },
    {
      "cell_type": "markdown",
      "source": [
        "###  **Graph Mode Version (Optional)**:\n",
        "To convert this into a graph (like in your image), wrap it in `@tf.function`:\n"
      ],
      "metadata": {
        "id": "G_dQpZFJjA_P"
      }
    },
    {
      "cell_type": "code",
      "source": [
        "@tf.function\n",
        "def compute():\n",
        "    a = tf.constant(15, name='a')\n",
        "    b = tf.constant(5, name='b')\n",
        "    prod = tf.multiply(a, b, name='Mul')\n",
        "    sum_ = tf.add(a, b, name='Add')\n",
        "    res = tf.divide(prod, sum_, name='Div')\n",
        "    tf.print(\"Result of (a * b) / (a + b) is:\", res)\n",
        "\n",
        "compute()"
      ],
      "metadata": {
        "colab": {
          "base_uri": "https://localhost:8080/"
        },
        "id": "NiMwxyldjFp3",
        "outputId": "818a03ce-55cc-4b9b-e585-cdf426ff1c03"
      },
      "execution_count": null,
      "outputs": [
        {
          "output_type": "stream",
          "name": "stdout",
          "text": [
            "Result of (a * b) / (a + b) is: 3.75\n"
          ]
        }
      ]
    },
    {
      "cell_type": "markdown",
      "source": [
        "## **OPTIONAL** : Print the Graph"
      ],
      "metadata": {
        "id": "dDocFsTIkkBe"
      }
    },
    {
      "cell_type": "code",
      "source": [
        "import tensorflow as tf\n",
        "import datetime"
      ],
      "metadata": {
        "id": "hZUz92VKjbAn"
      },
      "execution_count": null,
      "outputs": []
    },
    {
      "cell_type": "code",
      "source": [
        "@tf.function\n",
        "def compute():\n",
        "    a = tf.constant(15, name='a')\n",
        "    b = tf.constant(5, name='b')\n",
        "    prod = tf.multiply(a, b, name='Mul')\n",
        "    sum_ = tf.add(a, b, name='Add')\n",
        "    res = tf.divide(prod, sum_, name='Div')\n",
        "    tf.print(\"Result of (a * b) / (a + b) is:\", res)\n",
        "    return res\n"
      ],
      "metadata": {
        "id": "A_BBShBUjIfi"
      },
      "execution_count": null,
      "outputs": []
    },
    {
      "cell_type": "code",
      "source": [
        "log_dir = \"logs/graph/\" + datetime.datetime.now().strftime(\"%Y%m%d-%H%M%S\")\n",
        "writer = tf.summary.create_file_writer(log_dir)\n"
      ],
      "metadata": {
        "id": "Rvyh0UuXjU7c"
      },
      "execution_count": null,
      "outputs": []
    },
    {
      "cell_type": "code",
      "source": [
        "tf.summary.trace_on(graph=True, profiler=False)\n",
        "compute()\n",
        "with writer.as_default():\n",
        "    tf.summary.trace_export(name=\"my_graph\", step=0)\n"
      ],
      "metadata": {
        "colab": {
          "base_uri": "https://localhost:8080/"
        },
        "id": "EW2qFyQzjXoz",
        "outputId": "6dda4cdf-356b-4112-e4b7-0677b9c7b570"
      },
      "execution_count": null,
      "outputs": [
        {
          "output_type": "stream",
          "name": "stdout",
          "text": [
            "Result of (a * b) / (a + b) is: 3.75\n"
          ]
        }
      ]
    },
    {
      "cell_type": "code",
      "source": [
        "%load_ext tensorboard\n",
        "%tensorboard --logdir logs/graph\n"
      ],
      "metadata": {
        "colab": {
          "base_uri": "https://localhost:8080/",
          "height": 873
        },
        "id": "SFI5FS1ZjYEM",
        "outputId": "c0230cab-407b-4239-92ef-13ae64bb69fe"
      },
      "execution_count": null,
      "outputs": []
    },
    {
      "cell_type": "code",
      "source": [],
      "metadata": {
        "id": "4BYqrYr0jowx"
      },
      "execution_count": null,
      "outputs": []
    }
  ]
}